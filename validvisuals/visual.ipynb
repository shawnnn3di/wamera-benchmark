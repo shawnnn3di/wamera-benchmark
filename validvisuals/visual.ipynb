{
 "cells": [
  {
   "cell_type": "code",
   "execution_count": 1,
   "metadata": {},
   "outputs": [
    {
     "name": "stderr",
     "output_type": "stream",
     "text": [
      "/home/lscsc/caizhijie/miniconda3/envs/mtmd/lib/python3.8/site-packages/tqdm/auto.py:22: TqdmWarning: IProgress not found. Please update jupyter and ipywidgets. See https://ipywidgets.readthedocs.io/en/stable/user_install.html\n",
      "  from .autonotebook import tqdm as notebook_tqdm\n"
     ]
    }
   ],
   "source": [
    "import pickle as pk\n",
    "\n",
    "arr = pk.load(open('/home/lscsc/caizhijie/0420-wamera-benchmark/validdumps.pk', 'rb'))"
   ]
  },
  {
   "cell_type": "code",
   "execution_count": 2,
   "metadata": {},
   "outputs": [
    {
     "data": {
      "text/plain": [
       "'i, loss_sm, loss_jhm, loss_paf, sm, jhm, paf, y_sm, y_jhm, y_paf, img, box'"
      ]
     },
     "execution_count": 2,
     "metadata": {},
     "output_type": "execute_result"
    }
   ],
   "source": [
    "arr[0]"
   ]
  },
  {
   "cell_type": "code",
   "execution_count": 3,
   "metadata": {},
   "outputs": [],
   "source": [
    "loss_sm_list = list()\n",
    "loss_jhm_list = list()\n",
    "loss_paf_list = list()\n",
    "sm_list = list()\n",
    "jhm_list = list()\n",
    "paf_list = list()\n",
    "y_sm_list = list()\n",
    "y_jhm_list = list()\n",
    "y_paf_list = list()\n",
    "box_list = list()\n",
    "\n",
    "for i in arr[1:]:\n",
    "    loss_sm_list.append(i[1])\n",
    "    loss_jhm_list.append(i[2])\n",
    "    loss_paf_list.append(i[3])\n",
    "    sm_list.extend(i[4])\n",
    "    jhm_list.extend(i[5])\n",
    "    paf_list.extend(i[6])\n",
    "    y_sm_list.extend(i[7])\n",
    "    y_jhm_list.extend(i[8])\n",
    "    y_paf_list.extend(i[9])\n",
    "    box_list.extend(i[10])"
   ]
  },
  {
   "cell_type": "code",
   "execution_count": 7,
   "metadata": {},
   "outputs": [],
   "source": [
    "import numpy as np\n",
    "import sys\n",
    "\n",
    "sys.path.append('../src')\n",
    "\n",
    "import utils\n",
    "\n",
    "n_color = 19\n",
    "colors, hls = utils.ncolors(n_color)\n",
    "colors[18] = [0, 0, 0]\n",
    "\n",
    "jhm_arr = np.stack(jhm_list)\n",
    "y_jhm_arr = np.stack(y_jhm_list)"
   ]
  },
  {
   "cell_type": "code",
   "execution_count": 8,
   "metadata": {},
   "outputs": [
    {
     "data": {
      "text/plain": [
       "(6400, 38, 46, 46)"
      ]
     },
     "execution_count": 8,
     "metadata": {},
     "output_type": "execute_result"
    }
   ],
   "source": [
    "y_jhm_arr.shape"
   ]
  },
  {
   "cell_type": "code",
   "execution_count": 5,
   "metadata": {},
   "outputs": [],
   "source": [
    "import matplotlib.pyplot as plt\n",
    "\n",
    "\n",
    "def read_jhm(idx):\n",
    "    fig, ax = plt.subplots(1, 2)\n",
    "    thisarr = jhm_arr[idx, ...]\n",
    "    thisyarr = y_jhm_arr[idx, ...]\n",
    "    thisarr = thisarr / thisarr.sum(0)\n",
    "    thisyarr = thisyarr / thisyarr.sum(0)\n",
    "    visarr = np.matmul(thisarr.transpose(1, 2, 0), np.array(colors) / 255)\n",
    "    visyarr = np.matmul(thisyarr.transpose(1, 2, 0), np.array(colors) / 255)\n",
    "    \n",
    "    ax[0].imshow(visarr)\n",
    "    ax[1].imshow(visyarr)\n",
    "    \n",
    "    return fig, ax"
   ]
  },
  {
   "cell_type": "code",
   "execution_count": 10,
   "metadata": {},
   "outputs": [
    {
     "ename": "ValueError",
     "evalue": "matmul: Input operand 1 has a mismatch in its core dimension 0, with gufunc signature (n?,k),(k,m?)->(n?,m?) (size 19 is different from 38)",
     "output_type": "error",
     "traceback": [
      "\u001b[0;31m---------------------------------------------------------------------------\u001b[0m",
      "\u001b[0;31mValueError\u001b[0m                                Traceback (most recent call last)",
      "Cell \u001b[0;32mIn[10], line 1\u001b[0m\n\u001b[0;32m----> 1\u001b[0m fig, ax \u001b[39m=\u001b[39m read_jhm(\u001b[39m9\u001b[39;49m)\n\u001b[1;32m      2\u001b[0m ax\u001b[39m.\u001b[39mimshow()\n",
      "Cell \u001b[0;32mIn[5], line 11\u001b[0m, in \u001b[0;36mread_jhm\u001b[0;34m(idx)\u001b[0m\n\u001b[1;32m      9\u001b[0m thisyarr \u001b[39m=\u001b[39m thisyarr \u001b[39m/\u001b[39m thisyarr\u001b[39m.\u001b[39msum(\u001b[39m0\u001b[39m)\n\u001b[1;32m     10\u001b[0m visarr \u001b[39m=\u001b[39m np\u001b[39m.\u001b[39mmatmul(thisarr\u001b[39m.\u001b[39mtranspose(\u001b[39m1\u001b[39m, \u001b[39m2\u001b[39m, \u001b[39m0\u001b[39m), np\u001b[39m.\u001b[39marray(colors) \u001b[39m/\u001b[39m \u001b[39m255\u001b[39m)\n\u001b[0;32m---> 11\u001b[0m visyarr \u001b[39m=\u001b[39m np\u001b[39m.\u001b[39;49mmatmul(thisyarr\u001b[39m.\u001b[39;49mtranspose(\u001b[39m1\u001b[39;49m, \u001b[39m2\u001b[39;49m, \u001b[39m0\u001b[39;49m), np\u001b[39m.\u001b[39;49marray(colors) \u001b[39m/\u001b[39;49m \u001b[39m255\u001b[39;49m)\n\u001b[1;32m     13\u001b[0m ax[\u001b[39m0\u001b[39m]\u001b[39m.\u001b[39mimshow(visarr)\n\u001b[1;32m     14\u001b[0m ax[\u001b[39m1\u001b[39m]\u001b[39m.\u001b[39mimshow(visyarr)\n",
      "\u001b[0;31mValueError\u001b[0m: matmul: Input operand 1 has a mismatch in its core dimension 0, with gufunc signature (n?,k),(k,m?)->(n?,m?) (size 19 is different from 38)"
     ]
    },
    {
     "data": {
      "image/png": "[encoded data removed]",
      "text/plain": [
       "<Figure size 640x480 with 2 Axes>"
      ]
     },
     "metadata": {},
     "output_type": "display_data"
    }
   ],
   "source": [
    "fig, ax = read_jhm(9)\n",
    "ax.imshow()"
   ]
  },
  {
   "cell_type": "code",
   "execution_count": null,
   "metadata": {},
   "outputs": [],
   "source": []
  }
 ],
 "metadata": {
  "kernelspec": {
   "display_name": "mtmd",
   "language": "python",
   "name": "python3"
  },
  "language_info": {
   "codemirror_mode": {
    "name": "ipython",
    "version": 3
   },
   "file_extension": ".py",
   "mimetype": "text/x-python",
   "name": "python",
   "nbconvert_exporter": "python",
   "pygments_lexer": "ipython3",
   "version": "3.8.16"
  },
  "orig_nbformat": 4
 },
 "nbformat": 4,
 "nbformat_minor": 2
}
