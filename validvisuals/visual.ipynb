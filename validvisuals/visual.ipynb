{
 "cells": [
  {
   "cell_type": "code",
   "execution_count": 1,
   "metadata": {},
   "outputs": [
    {
     "name": "stderr",
     "output_type": "stream",
     "text": [
      "/home/lscsc/caizhijie/miniconda3/envs/mtmd/lib/python3.8/site-packages/tqdm/auto.py:22: TqdmWarning: IProgress not found. Please update jupyter and ipywidgets. See https://ipywidgets.readthedocs.io/en/stable/user_install.html\n",
      "  from .autonotebook import tqdm as notebook_tqdm\n"
     ]
    }
   ],
   "source": [
    "import pickle as pk\n",
    "\n",
    "dumppath = '/home/lscsc/caizhijie/0420-wamera-benchmark/validdumps_80epoch.pk'\n",
    "arr = pk.load(open(dumppath, 'rb'))\n",
    "\n",
    "df = pk.load(open('/home/lscsc/caizhijie/0420-wamera-benchmark/annotate/sorted_annotate_valid.pk', 'rb'))"
   ]
  },
  {
   "cell_type": "code",
   "execution_count": 2,
   "metadata": {},
   "outputs": [
    {
     "data": {
      "text/plain": [
       "'i, loss_sm, loss_jhm, loss_paf, sm, jhm, paf, y_sm, y_jhm, y_paf, img, box'"
      ]
     },
     "execution_count": 2,
     "metadata": {},
     "output_type": "execute_result"
    }
   ],
   "source": [
    "arr[0]"
   ]
  },
  {
   "cell_type": "code",
   "execution_count": 3,
   "metadata": {},
   "outputs": [],
   "source": [
    "loss_sm_list = list()\n",
    "loss_jhm_list = list()\n",
    "loss_paf_list = list()\n",
    "sm_list = list()\n",
    "jhm_list = list()\n",
    "paf_list = list()\n",
    "y_sm_list = list()\n",
    "y_jhm_list = list()\n",
    "y_paf_list = list()\n",
    "img_list = list()\n",
    "box_list = list()\n",
    "\n",
    "for i in arr[1:40]:\n",
    "    loss_sm_list.append(i[1])\n",
    "    loss_jhm_list.append(i[2])\n",
    "    loss_paf_list.append(i[3])\n",
    "    sm_list.extend(i[4])\n",
    "    jhm_list.extend(i[5])\n",
    "    paf_list.extend(i[6])\n",
    "    y_sm_list.extend(i[7])\n",
    "    y_jhm_list.extend(i[8])\n",
    "    y_paf_list.extend(i[9])\n",
    "    img_list.extend(i[10])\n",
    "    box_list.extend(i[11])"
   ]
  },
  {
   "cell_type": "code",
   "execution_count": 4,
   "metadata": {},
   "outputs": [],
   "source": [
    "import numpy as np\n",
    "import sys\n",
    "\n",
    "sys.path.append('../src')\n",
    "\n",
    "import utils\n",
    "\n",
    "n_color = 19\n",
    "colors, hls = utils.ncolors(n_color)\n",
    "colors[18] = [0, 0, 0]\n",
    "\n",
    "jhm_arr = np.stack(jhm_list)\n",
    "y_jhm_arr = np.stack(y_jhm_list)\n",
    "paf_arr = np.stack(paf_list)\n",
    "y_paf_arr = np.stack(y_paf_list)\n",
    "sm_arr = np.stack(sm_list)\n",
    "y_sm_arr = np.stack(y_sm_list)"
   ]
  },
  {
   "cell_type": "code",
   "execution_count": 5,
   "metadata": {},
   "outputs": [
    {
     "data": {
      "text/plain": [
       "(1248, 19, 46, 46)"
      ]
     },
     "execution_count": 5,
     "metadata": {},
     "output_type": "execute_result"
    }
   ],
   "source": [
    "y_jhm_arr.shape"
   ]
  },
  {
   "cell_type": "code",
   "execution_count": 6,
   "metadata": {},
   "outputs": [
    {
     "data": {
      "text/plain": [
       "array([[[0., 0., 0.],\n",
       "        [0., 0., 0.],\n",
       "        [0., 0., 0.],\n",
       "        ...,\n",
       "        [0., 0., 0.],\n",
       "        [0., 0., 0.],\n",
       "        [0., 0., 0.]],\n",
       "\n",
       "       [[0., 0., 0.],\n",
       "        [0., 0., 0.],\n",
       "        [0., 0., 0.],\n",
       "        ...,\n",
       "        [0., 0., 0.],\n",
       "        [0., 0., 0.],\n",
       "        [0., 0., 0.]],\n",
       "\n",
       "       [[0., 0., 0.],\n",
       "        [0., 0., 0.],\n",
       "        [0., 0., 0.],\n",
       "        ...,\n",
       "        [0., 0., 0.],\n",
       "        [0., 0., 0.],\n",
       "        [0., 0., 0.]],\n",
       "\n",
       "       ...,\n",
       "\n",
       "       [[0., 0., 0.],\n",
       "        [0., 0., 0.],\n",
       "        [0., 0., 0.],\n",
       "        ...,\n",
       "        [0., 0., 0.],\n",
       "        [0., 0., 0.],\n",
       "        [0., 0., 0.]],\n",
       "\n",
       "       [[0., 0., 0.],\n",
       "        [0., 0., 0.],\n",
       "        [0., 0., 0.],\n",
       "        ...,\n",
       "        [0., 0., 0.],\n",
       "        [0., 0., 0.],\n",
       "        [0., 0., 0.]],\n",
       "\n",
       "       [[0., 0., 0.],\n",
       "        [0., 0., 0.],\n",
       "        [0., 0., 0.],\n",
       "        ...,\n",
       "        [0., 0., 0.],\n",
       "        [0., 0., 0.],\n",
       "        [0., 0., 0.]]])"
      ]
     },
     "execution_count": 6,
     "metadata": {},
     "output_type": "execute_result"
    }
   ],
   "source": [
    "img_list[0]"
   ]
  },
  {
   "cell_type": "code",
   "execution_count": 7,
   "metadata": {},
   "outputs": [],
   "source": [
    "import cv2\n",
    "import tqdm\n",
    "import previewer\n",
    "\n",
    "left = 200\n",
    "right = 600\n",
    "\n",
    "def previewvideo(df, left, right, jhm, paf, y_jhm, y_paf, pd=None, dumppath=''):\n",
    "    read_imgs = list(df.iloc[left:right]['jpg'].apply(lambda x: cv2.imread(x)).values)\n",
    "    \n",
    "    jhm = jhm\n",
    "    y_jhm = y_jhm\n",
    "    paf = paf\n",
    "    y_paf = y_paf\n",
    "    sm = sm_arr[left:right, ...]\n",
    "    y_sm = y_sm_arr[left:right, ...]\n",
    "    \n",
    "    if pd is None:\n",
    "        img_list = list()\n",
    "        for i in tqdm.trange(0, right-left, 32):\n",
    "            imgbatch = np.zeros((sm.shape[0], 512, 512))\n",
    "            pd = previewer.previewbatch(imgbatch, (y_jhm[i:i+32], y_paf[i:i+32]), (jhm[i:i+32], paf[i:i+32]))\n",
    "            img_list.extend(pd)\n",
    "    else:\n",
    "        fake = pd[::2, ...]\n",
    "        real = pd[1::2, ...]\n",
    "        img_list = np.concatenate([fake, real], 2)\n",
    "    \n",
    "    jhm = jhm[left:right, ...] / np.expand_dims(jhm[left:right, ...].sum(1), 1)\n",
    "    y_jhm = y_jhm[left:right, ...] / np.expand_dims(y_jhm[left:right, ...].sum(1), 1)\n",
    "    \n",
    "    sm = np.repeat(np.expand_dims(sm, 1), 3, 1).transpose(0, 2, 3, 1)\n",
    "    y_sm = np.repeat(np.expand_dims(y_sm, 1), 3, 1).transpose(0, 2, 3, 1)\n",
    "    \n",
    "    fourcc = cv2.VideoWriter_fourcc(*'mp4v')\n",
    "    videowrite = cv2.VideoWriter(dumppath + 'pd.mp4', fourcc, 20, (1024, 512))\n",
    "    for i in tqdm.trange(read_imgs.__len__()):\n",
    "        videowrite.write(np.uint8(img_list[i, ..., ::1]))\n",
    "    \n",
    "    fourcc = cv2.VideoWriter_fourcc(*'mp4v')\n",
    "    videowrite = cv2.VideoWriter(dumppath + 'gt.mp4', fourcc, 20, (512, 512))\n",
    "    for i in tqdm.trange(read_imgs.__len__()):\n",
    "        videowrite.write(read_imgs[i][..., ::1])\n",
    "    \n",
    "    fourcc = cv2.VideoWriter_fourcc(*'mp4v')\n",
    "    videowrite = cv2.VideoWriter(dumppath + 'jhm.mp4', fourcc, 20, (46, 46))\n",
    "    jhm = np.matmul(jhm.transpose(0, 2, 3, 1), np.array(colors) / 255) * 255\n",
    "    \n",
    "    for i in tqdm.trange(read_imgs.__len__()):\n",
    "        videowrite.write(np.uint8(jhm[i, ...]))\n",
    "        \n",
    "    fourcc = cv2.VideoWriter_fourcc(*'mp4v')\n",
    "    videowrite = cv2.VideoWriter(dumppath + 'y_jhm.mp4', fourcc, 20, (46, 46))\n",
    "    y_jhm = np.matmul(y_jhm.transpose(0, 2, 3, 1), np.array(colors) / 255) * 255\n",
    "    for i in tqdm.trange(read_imgs.__len__()):\n",
    "        videowrite.write(np.uint8(y_jhm[i, ...]))\n",
    "    \n",
    "    fourcc = cv2.VideoWriter_fourcc(*'mp4v')\n",
    "    videowrite = cv2.VideoWriter(dumppath + 'sm.mp4', fourcc, 20, (46, 46))\n",
    "    for i in tqdm.trange(read_imgs.__len__()):\n",
    "        videowrite.write(np.uint8(sm[i, ...] * 255))\n",
    "    \n",
    "    fourcc = cv2.VideoWriter_fourcc(*'mp4v')\n",
    "    videowrite = cv2.VideoWriter(dumppath + 'y_sm.mp4', fourcc, 20, (46, 46))\n",
    "    for i in tqdm.trange(read_imgs.__len__()):\n",
    "        videowrite.write(np.uint8(y_sm[i, ...] * 255))\n"
   ]
  },
  {
   "cell_type": "code",
   "execution_count": 8,
   "metadata": {},
   "outputs": [
    {
     "name": "stderr",
     "output_type": "stream",
     "text": [
      "100%|██████████| 800/800 [00:07<00:00, 112.84it/s]\n",
      "100%|██████████| 800/800 [00:02<00:00, 365.77it/s]\n",
      "100%|██████████| 800/800 [00:00<00:00, 11800.36it/s]\n",
      "100%|██████████| 800/800 [00:00<00:00, 12794.48it/s]\n",
      "100%|██████████| 800/800 [00:00<00:00, 5116.09it/s]\n",
      "100%|██████████| 800/800 [00:00<00:00, 5602.00it/s]\n"
     ]
    }
   ],
   "source": [
    "previewvideo(df, 0, 800, jhm_arr, paf_arr, y_jhm_arr, y_paf_arr, np.stack(img_list), dumppath=dumppath.split('/')[-1][:-3] + '_')"
   ]
  },
  {
   "cell_type": "code",
   "execution_count": null,
   "metadata": {},
   "outputs": [],
   "source": []
  }
 ],
 "metadata": {
  "kernelspec": {
   "display_name": "mtmd",
   "language": "python",
   "name": "python3"
  },
  "language_info": {
   "codemirror_mode": {
    "name": "ipython",
    "version": 3
   },
   "file_extension": ".py",
   "mimetype": "text/x-python",
   "name": "python",
   "nbconvert_exporter": "python",
   "pygments_lexer": "ipython3",
   "version": "3.8.16"
  },
  "orig_nbformat": 4
 },
 "nbformat": 4,
 "nbformat_minor": 2
}
