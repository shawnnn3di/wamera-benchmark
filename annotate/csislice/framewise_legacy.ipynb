{
 "cells": [
  {
   "cell_type": "code",
   "execution_count": 1,
   "metadata": {},
   "outputs": [],
   "source": [
    "rootdir = '/home/lscsc/caizhijie/archive_0118/archive/'\n",
    "\n",
    "import glob\n",
    "csi_srcdir = glob.glob(rootdir + 'csi*/t*.dat')\n",
    "pic_srcdir = glob.glob(rootdir + 'pic*/t*/*.jpg')"
   ]
  },
  {
   "cell_type": "code",
   "execution_count": 2,
   "metadata": {},
   "outputs": [],
   "source": [
    "csi_dstrootdir = '/home/lscsc/caizhijie/archive_0118/csislice/'"
   ]
  },
  {
   "cell_type": "code",
   "execution_count": 3,
   "metadata": {},
   "outputs": [],
   "source": [
    "import pandas as pd\n",
    "df = pd.DataFrame.from_dict({'pic': pic_srcdir})\n",
    "df['subdir'] = df['pic'].apply(lambda x: x.split('/')[-3][4:])\n",
    "df['subsubdir'] = df['pic'].apply(lambda x: x.split('/')[-2])\n",
    "df['repeat'] = df['subsubdir'].apply(lambda x: int(x.split('_')[0][1:]))\n",
    "df['picname'] = df['pic'].apply(lambda x: x.split('/')[-1])"
   ]
  },
  {
   "cell_type": "code",
   "execution_count": 4,
   "metadata": {},
   "outputs": [],
   "source": [
    "df_ = pd.DataFrame.from_dict({'csi': csi_srcdir})\n",
    "df_['subdir'] = df_['csi'].apply(lambda x: x.split('/')[-3])\n",
    "df_['subsubdir'] = df_['csi'].apply(lambda x: x.split('/')[-2][4:])\n",
    "df_['picname'] = df_['csi'].apply(lambda x: x.split('/')[-1])\n",
    "df_['repeat'] = df_['picname'].apply(lambda x: int(x.split('_')[0][1:]))"
   ]
  },
  {
   "cell_type": "code",
   "execution_count": 8,
   "metadata": {},
   "outputs": [
    {
     "name": "stderr",
     "output_type": "stream",
     "text": [
      "  1%|          | 2/320 [00:00<00:24, 12.96it/s]"
     ]
    },
    {
     "name": "stdout",
     "output_type": "stream",
     "text": [
      "connector_log=0x1\n",
      "2560 0xbb packets parsed\n",
      "connector_log=0x1\n",
      "2560 0xbb packets parsed\n",
      "connector_log=0x1\n",
      "2560 0xbb packets parsed\n"
     ]
    },
    {
     "name": "stderr",
     "output_type": "stream",
     "text": [
      "  1%|▏         | 4/320 [00:00<00:23, 13.27it/s]"
     ]
    },
    {
     "name": "stdout",
     "output_type": "stream",
     "text": [
      "connector_log=0x1\n",
      "2560 0xbb packets parsed\n",
      "connector_log=0x1\n",
      "2560 0xbb packets parsed\n",
      "connector_log=0x1\n",
      "2560 0xbb packets parsed\n"
     ]
    },
    {
     "name": "stderr",
     "output_type": "stream",
     "text": [
      "  2%|▎         | 8/320 [00:00<00:23, 13.49it/s]"
     ]
    },
    {
     "name": "stdout",
     "output_type": "stream",
     "text": [
      "connector_log=0x1\n",
      "2560 0xbb packets parsed\n",
      "connector_log=0x1\n",
      "2560 0xbb packets parsed\n",
      "connector_log=0x1\n",
      "2560 0xbb packets parsed\n"
     ]
    },
    {
     "name": "stderr",
     "output_type": "stream",
     "text": [
      "  4%|▍         | 12/320 [00:00<00:22, 13.75it/s]"
     ]
    },
    {
     "name": "stdout",
     "output_type": "stream",
     "text": [
      "connector_log=0x1\n",
      "2560 0xbb packets parsed\n",
      "connector_log=0x1\n",
      "2560 0xbb packets parsed\n",
      "connector_log=0x1\n",
      "2560 0xbb packets parsed\n"
     ]
    },
    {
     "name": "stderr",
     "output_type": "stream",
     "text": [
      "  4%|▍         | 14/320 [00:01<00:22, 13.82it/s]"
     ]
    },
    {
     "name": "stdout",
     "output_type": "stream",
     "text": [
      "connector_log=0x1\n",
      "2560 0xbb packets parsed\n",
      "connector_log=0x1\n",
      "2560 0xbb packets parsed\n",
      "connector_log=0x1\n",
      "2560 0xbb packets parsed\n"
     ]
    },
    {
     "name": "stderr",
     "output_type": "stream",
     "text": [
      "  6%|▌         | 18/320 [00:01<00:21, 13.97it/s]"
     ]
    },
    {
     "name": "stdout",
     "output_type": "stream",
     "text": [
      "connector_log=0x1\n",
      "2560 0xbb packets parsed\n",
      "connector_log=0x1\n",
      "2560 0xbb packets parsed\n",
      "connector_log=0x1\n",
      "2560 0xbb packets parsed\n"
     ]
    },
    {
     "name": "stderr",
     "output_type": "stream",
     "text": [
      "  6%|▋         | 20/320 [00:01<00:21, 14.09it/s]"
     ]
    },
    {
     "name": "stdout",
     "output_type": "stream",
     "text": [
      "connector_log=0x1\n",
      "2560 0xbb packets parsed\n",
      "connector_log=0x1\n",
      "2560 0xbb packets parsed\n",
      "connector_log=0x1\n",
      "2560 0xbb packets parsed\n"
     ]
    },
    {
     "name": "stderr",
     "output_type": "stream",
     "text": [
      "  8%|▊         | 24/320 [00:01<00:20, 14.32it/s]"
     ]
    },
    {
     "name": "stdout",
     "output_type": "stream",
     "text": [
      "connector_log=0x1\n",
      "2560 0xbb packets parsed\n",
      "connector_log=0x1\n",
      "2560 0xbb packets parsed\n",
      "connector_log=0x1\n",
      "2560 0xbb packets parsed\n"
     ]
    },
    {
     "name": "stderr",
     "output_type": "stream",
     "text": [
      "  8%|▊         | 26/320 [00:01<00:20, 14.34it/s]"
     ]
    },
    {
     "name": "stdout",
     "output_type": "stream",
     "text": [
      "connector_log=0x1\n",
      "2560 0xbb packets parsed\n",
      "connector_log=0x1\n",
      "2560 0xbb packets parsed\n",
      "connector_log=0x1\n",
      "2560 0xbb packets parsed\n"
     ]
    },
    {
     "name": "stderr",
     "output_type": "stream",
     "text": [
      "  9%|▉         | 28/320 [00:02<00:20, 14.35it/s]"
     ]
    },
    {
     "name": "stdout",
     "output_type": "stream",
     "text": [
      "connector_log=0x1\n",
      "2560 0xbb packets parsed\n",
      "connector_log=0x1\n",
      "2560 0xbb packets parsed\n",
      "connector_log=0x1\n",
      "2560 0xbb packets parsed\n"
     ]
    },
    {
     "name": "stderr",
     "output_type": "stream",
     "text": [
      " 10%|█         | 32/320 [00:02<00:21, 13.39it/s]"
     ]
    },
    {
     "name": "stdout",
     "output_type": "stream",
     "text": [
      "connector_log=0x1\n",
      "2560 0xbb packets parsed\n",
      "connector_log=0x1\n",
      "2560 0xbb packets parsed\n",
      "connector_log=0x1\n",
      "2560 0xbb packets parsed\n"
     ]
    },
    {
     "name": "stderr",
     "output_type": "stream",
     "text": [
      " 11%|█▏        | 36/320 [00:02<00:20, 13.86it/s]"
     ]
    },
    {
     "name": "stdout",
     "output_type": "stream",
     "text": [
      "connector_log=0x1\n",
      "2560 0xbb packets parsed\n",
      "connector_log=0x1\n",
      "2560 0xbb packets parsed\n",
      "connector_log=0x1\n",
      "2560 0xbb packets parsed\n"
     ]
    },
    {
     "name": "stderr",
     "output_type": "stream",
     "text": [
      " 12%|█▏        | 38/320 [00:02<00:20, 14.00it/s]"
     ]
    },
    {
     "name": "stdout",
     "output_type": "stream",
     "text": [
      "connector_log=0x1\n",
      "2560 0xbb packets parsed\n",
      "connector_log=0x1\n",
      "2560 0xbb packets parsed\n",
      "connector_log=0x1\n",
      "2560 0xbb packets parsed\n"
     ]
    },
    {
     "name": "stderr",
     "output_type": "stream",
     "text": [
      " 13%|█▎        | 42/320 [00:03<00:19, 14.25it/s]"
     ]
    },
    {
     "name": "stdout",
     "output_type": "stream",
     "text": [
      "connector_log=0x1\n",
      "2560 0xbb packets parsed\n",
      "connector_log=0x1\n",
      "2560 0xbb packets parsed\n",
      "connector_log=0x1\n",
      "2560 0xbb packets parsed\n"
     ]
    },
    {
     "name": "stderr",
     "output_type": "stream",
     "text": [
      " 14%|█▍        | 44/320 [00:03<00:19, 14.32it/s]"
     ]
    },
    {
     "name": "stdout",
     "output_type": "stream",
     "text": [
      "connector_log=0x1\n",
      "2560 0xbb packets parsed\n",
      "connector_log=0x1\n",
      "2560 0xbb packets parsed\n",
      "connector_log=0x1\n",
      "2560 0xbb packets parsed\n"
     ]
    },
    {
     "name": "stderr",
     "output_type": "stream",
     "text": [
      " 14%|█▍        | 46/320 [00:03<00:19, 14.38it/s]"
     ]
    },
    {
     "name": "stdout",
     "output_type": "stream",
     "text": [
      "connector_log=0x1\n",
      "2560 0xbb packets parsed\n",
      "connector_log=0x1\n",
      "2560 0xbb packets parsed\n",
      "connector_log=0x1\n",
      "2560 0xbb packets parsed\n"
     ]
    },
    {
     "name": "stderr",
     "output_type": "stream",
     "text": [
      " 16%|█▌        | 50/320 [00:03<00:18, 14.37it/s]"
     ]
    },
    {
     "name": "stdout",
     "output_type": "stream",
     "text": [
      "connector_log=0x1\n",
      "2560 0xbb packets parsed\n",
      "connector_log=0x1\n",
      "2560 0xbb packets parsed\n",
      "connector_log=0x1\n",
      "2560 0xbb packets parsed\n"
     ]
    },
    {
     "name": "stderr",
     "output_type": "stream",
     "text": [
      " 16%|█▋        | 52/320 [00:03<00:18, 14.40it/s]"
     ]
    },
    {
     "name": "stdout",
     "output_type": "stream",
     "text": [
      "connector_log=0x1\n",
      "2560 0xbb packets parsed\n",
      "connector_log=0x1\n",
      "2560 0xbb packets parsed\n",
      "connector_log=0x1\n",
      "2560 0xbb packets parsed\n"
     ]
    },
    {
     "name": "stderr",
     "output_type": "stream",
     "text": [
      " 18%|█▊        | 56/320 [00:03<00:18, 14.45it/s]"
     ]
    },
    {
     "name": "stdout",
     "output_type": "stream",
     "text": [
      "connector_log=0x1\n",
      "2560 0xbb packets parsed\n",
      "connector_log=0x1\n",
      "2560 0xbb packets parsed\n",
      "connector_log=0x1\n",
      "2560 0xbb packets parsed\n"
     ]
    },
    {
     "name": "stderr",
     "output_type": "stream",
     "text": [
      " 18%|█▊        | 58/320 [00:04<00:18, 14.45it/s]"
     ]
    },
    {
     "name": "stdout",
     "output_type": "stream",
     "text": [
      "connector_log=0x1\n",
      "2560 0xbb packets parsed\n",
      "connector_log=0x1\n",
      "2560 0xbb packets parsed\n",
      "connector_log=0x1\n",
      "2560 0xbb packets parsed\n"
     ]
    },
    {
     "name": "stderr",
     "output_type": "stream",
     "text": [
      " 19%|█▉        | 62/320 [00:04<00:17, 14.48it/s]"
     ]
    },
    {
     "name": "stdout",
     "output_type": "stream",
     "text": [
      "connector_log=0x1\n",
      "2560 0xbb packets parsed\n",
      "connector_log=0x1\n",
      "2560 0xbb packets parsed\n",
      "connector_log=0x1\n",
      "2560 0xbb packets parsed\n"
     ]
    },
    {
     "name": "stderr",
     "output_type": "stream",
     "text": [
      " 21%|██        | 66/320 [00:04<00:17, 14.46it/s]"
     ]
    },
    {
     "name": "stdout",
     "output_type": "stream",
     "text": [
      "connector_log=0x1\n",
      "2560 0xbb packets parsed\n",
      "connector_log=0x1\n",
      "2560 0xbb packets parsed\n",
      "connector_log=0x1\n",
      "2560 0xbb packets parsed\n",
      "connector_log=0x1\n",
      "2560 0xbb packets parsed\n"
     ]
    },
    {
     "name": "stderr",
     "output_type": "stream",
     "text": [
      " 22%|██▏       | 70/320 [00:04<00:17, 14.44it/s]"
     ]
    },
    {
     "name": "stdout",
     "output_type": "stream",
     "text": [
      "connector_log=0x1\n",
      "2560 0xbb packets parsed\n",
      "connector_log=0x1\n",
      "2560 0xbb packets parsed\n",
      "connector_log=0x1\n",
      "2560 0xbb packets parsed\n"
     ]
    },
    {
     "name": "stderr",
     "output_type": "stream",
     "text": [
      " 22%|██▎       | 72/320 [00:05<00:18, 13.61it/s]"
     ]
    },
    {
     "name": "stdout",
     "output_type": "stream",
     "text": [
      "connector_log=0x1\n",
      "2560 0xbb packets parsed\n",
      "connector_log=0x1\n",
      "2560 0xbb packets parsed\n",
      "connector_log=0x1\n",
      "2560 0xbb packets parsed\n"
     ]
    },
    {
     "name": "stderr",
     "output_type": "stream",
     "text": [
      " 24%|██▍       | 76/320 [00:05<00:17, 13.75it/s]"
     ]
    },
    {
     "name": "stdout",
     "output_type": "stream",
     "text": [
      "connector_log=0x1\n",
      "2560 0xbb packets parsed\n",
      "connector_log=0x1\n",
      "2560 0xbb packets parsed\n",
      "connector_log=0x1\n",
      "2560 0xbb packets parsed\n"
     ]
    },
    {
     "name": "stderr",
     "output_type": "stream",
     "text": [
      " 24%|██▍       | 78/320 [00:05<00:17, 13.94it/s]"
     ]
    },
    {
     "name": "stdout",
     "output_type": "stream",
     "text": [
      "connector_log=0x1\n",
      "2560 0xbb packets parsed\n",
      "connector_log=0x1\n",
      "2560 0xbb packets parsed\n",
      "connector_log=0x1\n",
      "2560 0xbb packets parsed\n"
     ]
    },
    {
     "name": "stderr",
     "output_type": "stream",
     "text": [
      " 25%|██▌       | 80/320 [00:05<00:17, 14.03it/s]"
     ]
    },
    {
     "name": "stdout",
     "output_type": "stream",
     "text": [
      "connector_log=0x1\n",
      "2560 0xbb packets parsed\n",
      "connector_log=0x1\n",
      "2560 0xbb packets parsed\n",
      "connector_log=0x1\n",
      "2560 0xbb packets parsed\n"
     ]
    },
    {
     "name": "stderr",
     "output_type": "stream",
     "text": [
      " 26%|██▋       | 84/320 [00:05<00:16, 14.23it/s]"
     ]
    },
    {
     "name": "stdout",
     "output_type": "stream",
     "text": [
      "connector_log=0x1\n",
      "2560 0xbb packets parsed\n",
      "connector_log=0x1\n",
      "2560 0xbb packets parsed\n",
      "connector_log=0x1\n",
      "2560 0xbb packets parsed\n"
     ]
    },
    {
     "name": "stderr",
     "output_type": "stream",
     "text": [
      " 27%|██▋       | 86/320 [00:06<00:16, 14.23it/s]"
     ]
    },
    {
     "name": "stdout",
     "output_type": "stream",
     "text": [
      "connector_log=0x1\n",
      "2560 0xbb packets parsed\n",
      "connector_log=0x1\n",
      "2560 0xbb packets parsed\n",
      "connector_log=0x1\n",
      "2560 0xbb packets parsed\n"
     ]
    },
    {
     "name": "stderr",
     "output_type": "stream",
     "text": [
      " 28%|██▊       | 90/320 [00:06<00:16, 14.25it/s]"
     ]
    },
    {
     "name": "stdout",
     "output_type": "stream",
     "text": [
      "connector_log=0x1\n",
      "2560 0xbb packets parsed\n",
      "connector_log=0x1\n",
      "2560 0xbb packets parsed\n",
      "connector_log=0x1\n",
      "2560 0xbb packets parsed\n"
     ]
    },
    {
     "name": "stderr",
     "output_type": "stream",
     "text": [
      " 29%|██▉       | 92/320 [00:06<00:15, 14.27it/s]"
     ]
    },
    {
     "name": "stdout",
     "output_type": "stream",
     "text": [
      "connector_log=0x1\n",
      "2560 0xbb packets parsed\n",
      "connector_log=0x1\n",
      "2560 0xbb packets parsed\n",
      "connector_log=0x1\n",
      "2560 0xbb packets parsed\n"
     ]
    },
    {
     "name": "stderr",
     "output_type": "stream",
     "text": [
      " 30%|███       | 96/320 [00:06<00:15, 14.35it/s]"
     ]
    },
    {
     "name": "stdout",
     "output_type": "stream",
     "text": [
      "connector_log=0x1\n",
      "2560 0xbb packets parsed\n",
      "connector_log=0x1\n",
      "2560 0xbb packets parsed\n",
      "connector_log=0x1\n",
      "2560 0xbb packets parsed\n"
     ]
    },
    {
     "name": "stderr",
     "output_type": "stream",
     "text": [
      " 31%|███       | 98/320 [00:06<00:15, 14.33it/s]"
     ]
    },
    {
     "name": "stdout",
     "output_type": "stream",
     "text": [
      "connector_log=0x1\n",
      "2560 0xbb packets parsed\n",
      "connector_log=0x1\n",
      "2560 0xbb packets parsed\n",
      "connector_log=0x1\n",
      "2560 0xbb packets parsed\n"
     ]
    },
    {
     "name": "stderr",
     "output_type": "stream",
     "text": [
      " 32%|███▏      | 102/320 [00:07<00:15, 14.10it/s]"
     ]
    },
    {
     "name": "stdout",
     "output_type": "stream",
     "text": [
      "connector_log=0x1\n",
      "2560 0xbb packets parsed\n",
      "connector_log=0x1\n",
      "2560 0xbb packets parsed\n",
      "connector_log=0x1\n",
      "2560 0xbb packets parsed\n"
     ]
    },
    {
     "name": "stderr",
     "output_type": "stream",
     "text": [
      " 32%|███▎      | 104/320 [00:07<00:15, 13.64it/s]"
     ]
    },
    {
     "name": "stdout",
     "output_type": "stream",
     "text": [
      "connector_log=0x1\n",
      "2560 0xbb packets parsed\n",
      "connector_log=0x1\n",
      "2560 0xbb packets parsed\n",
      "connector_log=0x1\n",
      "2560 0xbb packets parsed\n"
     ]
    },
    {
     "name": "stderr",
     "output_type": "stream",
     "text": [
      " 34%|███▍      | 108/320 [00:07<00:15, 13.94it/s]"
     ]
    },
    {
     "name": "stdout",
     "output_type": "stream",
     "text": [
      "connector_log=0x1\n",
      "2560 0xbb packets parsed\n",
      "connector_log=0x1\n",
      "2560 0xbb packets parsed\n",
      "connector_log=0x1\n",
      "2560 0xbb packets parsed\n"
     ]
    },
    {
     "name": "stderr",
     "output_type": "stream",
     "text": [
      " 34%|███▍      | 110/320 [00:07<00:15, 13.97it/s]"
     ]
    },
    {
     "name": "stdout",
     "output_type": "stream",
     "text": [
      "connector_log=0x1\n",
      "2560 0xbb packets parsed\n",
      "connector_log=0x1\n",
      "2560 0xbb packets parsed\n",
      "connector_log=0x1\n",
      "2560 0xbb packets parsed\n"
     ]
    },
    {
     "name": "stderr",
     "output_type": "stream",
     "text": [
      " 36%|███▌      | 114/320 [00:08<00:14, 13.87it/s]"
     ]
    },
    {
     "name": "stdout",
     "output_type": "stream",
     "text": [
      "connector_log=0x1\n",
      "2560 0xbb packets parsed\n",
      "connector_log=0x1\n",
      "2560 0xbb packets parsed\n",
      "connector_log=0x1\n",
      "2560 0xbb packets parsed\n"
     ]
    },
    {
     "name": "stderr",
     "output_type": "stream",
     "text": [
      " 37%|███▋      | 118/320 [00:08<00:14, 14.19it/s]"
     ]
    },
    {
     "name": "stdout",
     "output_type": "stream",
     "text": [
      "connector_log=0x1\n",
      "2560 0xbb packets parsed\n",
      "connector_log=0x1\n",
      "2560 0xbb packets parsed\n",
      "connector_log=0x1\n",
      "2560 0xbb packets parsed\n"
     ]
    },
    {
     "name": "stderr",
     "output_type": "stream",
     "text": [
      " 38%|███▊      | 120/320 [00:08<00:13, 14.29it/s]"
     ]
    },
    {
     "name": "stdout",
     "output_type": "stream",
     "text": [
      "connector_log=0x1\n",
      "2560 0xbb packets parsed\n",
      "connector_log=0x1\n",
      "2560 0xbb packets parsed\n",
      "connector_log=0x1\n",
      "2560 0xbb packets parsed\n"
     ]
    },
    {
     "name": "stderr",
     "output_type": "stream",
     "text": [
      " 39%|███▉      | 124/320 [00:08<00:13, 14.45it/s]"
     ]
    },
    {
     "name": "stdout",
     "output_type": "stream",
     "text": [
      "connector_log=0x1\n",
      "2560 0xbb packets parsed\n",
      "connector_log=0x1\n",
      "2560 0xbb packets parsed\n",
      "connector_log=0x1\n",
      "2560 0xbb packets parsed\n"
     ]
    },
    {
     "name": "stderr",
     "output_type": "stream",
     "text": [
      " 39%|███▉      | 126/320 [00:08<00:13, 14.50it/s]"
     ]
    },
    {
     "name": "stdout",
     "output_type": "stream",
     "text": [
      "connector_log=0x1\n",
      "2560 0xbb packets parsed\n",
      "connector_log=0x1\n",
      "2560 0xbb packets parsed\n",
      "connector_log=0x1\n",
      "2560 0xbb packets parsed\n"
     ]
    },
    {
     "name": "stderr",
     "output_type": "stream",
     "text": [
      " 40%|████      | 128/320 [00:09<00:13, 14.39it/s]"
     ]
    },
    {
     "name": "stdout",
     "output_type": "stream",
     "text": [
      "connector_log=0x1\n",
      "2560 0xbb packets parsed\n",
      "connector_log=0x1\n",
      "2560 0xbb packets parsed\n",
      "connector_log=0x1\n",
      "2560 0xbb packets parsed\n"
     ]
    },
    {
     "name": "stderr",
     "output_type": "stream",
     "text": [
      " 41%|████▏     | 132/320 [00:09<00:13, 14.28it/s]"
     ]
    },
    {
     "name": "stdout",
     "output_type": "stream",
     "text": [
      "connector_log=0x1\n",
      "2560 0xbb packets parsed\n",
      "connector_log=0x1\n",
      "2560 0xbb packets parsed\n",
      "connector_log=0x1\n",
      "2560 0xbb packets parsed\n",
      "connector_log=0x1\n",
      "2560 0xbb packets parsed\n"
     ]
    },
    {
     "name": "stderr",
     "output_type": "stream",
     "text": [
      " 42%|████▎     | 136/320 [00:09<00:12, 14.41it/s]"
     ]
    },
    {
     "name": "stdout",
     "output_type": "stream",
     "text": [
      "connector_log=0x1\n",
      "2560 0xbb packets parsed\n",
      "connector_log=0x1\n",
      "2560 0xbb packets parsed\n",
      "connector_log=0x1\n",
      "2560 0xbb packets parsed\n",
      "connector_log=0x1\n",
      "2560 0xbb packets parsed\n"
     ]
    },
    {
     "name": "stderr",
     "output_type": "stream",
     "text": [
      " 44%|████▍     | 140/320 [00:09<00:12, 14.47it/s]"
     ]
    },
    {
     "name": "stdout",
     "output_type": "stream",
     "text": [
      "connector_log=0x1\n",
      "2560 0xbb packets parsed\n",
      "connector_log=0x1\n",
      "2560 0xbb packets parsed\n",
      "connector_log=0x1\n",
      "2560 0xbb packets parsed\n",
      "connector_log=0x1\n",
      "2560 0xbb packets parsed\n"
     ]
    },
    {
     "name": "stderr",
     "output_type": "stream",
     "text": [
      " 45%|████▌     | 144/320 [00:10<00:12, 14.03it/s]"
     ]
    },
    {
     "name": "stdout",
     "output_type": "stream",
     "text": [
      "connector_log=0x1\n",
      "2560 0xbb packets parsed\n",
      "connector_log=0x1\n",
      "2560 0xbb packets parsed\n",
      "connector_log=0x1\n",
      "2560 0xbb packets parsed\n"
     ]
    },
    {
     "name": "stderr",
     "output_type": "stream",
     "text": [
      " 46%|████▋     | 148/320 [00:10<00:12, 14.27it/s]"
     ]
    },
    {
     "name": "stdout",
     "output_type": "stream",
     "text": [
      "connector_log=0x1\n",
      "2560 0xbb packets parsed\n",
      "connector_log=0x1\n",
      "2560 0xbb packets parsed\n",
      "connector_log=0x1\n",
      "2560 0xbb packets parsed\n"
     ]
    },
    {
     "name": "stderr",
     "output_type": "stream",
     "text": [
      " 47%|████▋     | 150/320 [00:10<00:11, 14.30it/s]"
     ]
    },
    {
     "name": "stdout",
     "output_type": "stream",
     "text": [
      "connector_log=0x1\n",
      "2560 0xbb packets parsed\n",
      "connector_log=0x1\n",
      "2560 0xbb packets parsed\n",
      "connector_log=0x1\n",
      "2560 0xbb packets parsed\n"
     ]
    },
    {
     "name": "stderr",
     "output_type": "stream",
     "text": [
      " 48%|████▊     | 152/320 [00:10<00:13, 12.41it/s]"
     ]
    },
    {
     "name": "stdout",
     "output_type": "stream",
     "text": [
      "connector_log=0x1\n",
      "2560 0xbb packets parsed\n",
      "connector_log=0x1\n",
      "2560 0xbb packets parsed\n"
     ]
    },
    {
     "name": "stderr",
     "output_type": "stream",
     "text": [
      " 49%|████▉     | 156/320 [00:11<00:12, 13.37it/s]"
     ]
    },
    {
     "name": "stdout",
     "output_type": "stream",
     "text": [
      "connector_log=0x1\n",
      "2560 0xbb packets parsed\n",
      "connector_log=0x1\n",
      "2560 0xbb packets parsed\n",
      "connector_log=0x1\n",
      "2560 0xbb packets parsed\n"
     ]
    },
    {
     "name": "stderr",
     "output_type": "stream",
     "text": [
      " 49%|████▉     | 158/320 [00:11<00:11, 13.67it/s]"
     ]
    },
    {
     "name": "stdout",
     "output_type": "stream",
     "text": [
      "connector_log=0x1\n",
      "2560 0xbb packets parsed\n",
      "connector_log=0x1\n",
      "2560 0xbb packets parsed\n",
      "connector_log=0x1\n",
      "2560 0xbb packets parsed\n"
     ]
    },
    {
     "name": "stderr",
     "output_type": "stream",
     "text": [
      " 50%|█████     | 160/320 [00:11<00:11, 13.91it/s]"
     ]
    },
    {
     "name": "stdout",
     "output_type": "stream",
     "text": [
      "connector_log=0x1\n",
      "2560 0xbb packets parsed\n",
      "connector_log=0x1\n",
      "2560 0xbb packets parsed\n",
      "connector_log=0x1\n",
      "2560 0xbb packets parsed\n"
     ]
    },
    {
     "name": "stderr",
     "output_type": "stream",
     "text": [
      " 51%|█████▏    | 164/320 [00:11<00:11, 13.97it/s]"
     ]
    },
    {
     "name": "stdout",
     "output_type": "stream",
     "text": [
      "connector_log=0x1\n",
      "2560 0xbb packets parsed\n",
      "connector_log=0x1\n",
      "2560 0xbb packets parsed\n",
      "connector_log=0x1\n",
      "2560 0xbb packets parsed\n"
     ]
    },
    {
     "name": "stderr",
     "output_type": "stream",
     "text": [
      " 52%|█████▎    | 168/320 [00:11<00:10, 14.25it/s]"
     ]
    },
    {
     "name": "stdout",
     "output_type": "stream",
     "text": [
      "connector_log=0x1\n",
      "2560 0xbb packets parsed\n",
      "connector_log=0x1\n",
      "2560 0xbb packets parsed\n",
      "connector_log=0x1\n",
      "2560 0xbb packets parsed\n",
      "connector_log=0x1\n",
      "2560 0xbb packets parsed\n"
     ]
    },
    {
     "name": "stderr",
     "output_type": "stream",
     "text": [
      " 54%|█████▍    | 172/320 [00:12<00:10, 14.39it/s]"
     ]
    },
    {
     "name": "stdout",
     "output_type": "stream",
     "text": [
      "connector_log=0x1\n",
      "2560 0xbb packets parsed\n",
      "connector_log=0x1\n",
      "2560 0xbb packets parsed\n",
      "connector_log=0x1\n",
      "2560 0xbb packets parsed\n"
     ]
    },
    {
     "name": "stderr",
     "output_type": "stream",
     "text": [
      " 54%|█████▍    | 174/320 [00:12<00:10, 14.42it/s]"
     ]
    },
    {
     "name": "stdout",
     "output_type": "stream",
     "text": [
      "connector_log=0x1\n",
      "2560 0xbb packets parsed\n",
      "connector_log=0x1\n",
      "2560 0xbb packets parsed\n",
      "connector_log=0x1\n",
      "2560 0xbb packets parsed\n"
     ]
    },
    {
     "name": "stderr",
     "output_type": "stream",
     "text": [
      " 56%|█████▌    | 178/320 [00:12<00:09, 14.47it/s]"
     ]
    },
    {
     "name": "stdout",
     "output_type": "stream",
     "text": [
      "connector_log=0x1\n",
      "2560 0xbb packets parsed\n",
      "connector_log=0x1\n",
      "2560 0xbb packets parsed\n",
      "connector_log=0x1\n",
      "2560 0xbb packets parsed\n"
     ]
    },
    {
     "name": "stderr",
     "output_type": "stream",
     "text": [
      " 56%|█████▋    | 180/320 [00:12<00:09, 14.46it/s]"
     ]
    },
    {
     "name": "stdout",
     "output_type": "stream",
     "text": [
      "connector_log=0x1\n",
      "2560 0xbb packets parsed\n",
      "connector_log=0x1\n",
      "2560 0xbb packets parsed\n",
      "connector_log=0x1\n",
      "2560 0xbb packets parsed\n"
     ]
    },
    {
     "name": "stderr",
     "output_type": "stream",
     "text": [
      " 57%|█████▊    | 184/320 [00:13<00:09, 14.49it/s]"
     ]
    },
    {
     "name": "stdout",
     "output_type": "stream",
     "text": [
      "connector_log=0x1\n",
      "2560 0xbb packets parsed\n",
      "connector_log=0x1\n",
      "2560 0xbb packets parsed\n",
      "connector_log=0x1\n",
      "2560 0xbb packets parsed\n"
     ]
    },
    {
     "name": "stderr",
     "output_type": "stream",
     "text": [
      " 58%|█████▊    | 186/320 [00:13<00:09, 14.50it/s]"
     ]
    },
    {
     "name": "stdout",
     "output_type": "stream",
     "text": [
      "connector_log=0x1\n",
      "2560 0xbb packets parsed\n",
      "connector_log=0x1\n",
      "2560 0xbb packets parsed\n",
      "connector_log=0x1\n",
      "2560 0xbb packets parsed\n"
     ]
    },
    {
     "name": "stderr",
     "output_type": "stream",
     "text": [
      " 59%|█████▉    | 188/320 [00:13<00:09, 14.40it/s]"
     ]
    },
    {
     "name": "stdout",
     "output_type": "stream",
     "text": [
      "connector_log=0x1\n",
      "2560 0xbb packets parsed\n",
      "connector_log=0x1\n",
      "2560 0xbb packets parsed\n",
      "connector_log=0x1\n",
      "2560 0xbb packets parsed\n"
     ]
    },
    {
     "name": "stderr",
     "output_type": "stream",
     "text": [
      " 60%|██████    | 192/320 [00:13<00:08, 14.24it/s]"
     ]
    },
    {
     "name": "stdout",
     "output_type": "stream",
     "text": [
      "connector_log=0x1\n",
      "2560 0xbb packets parsed\n",
      "connector_log=0x1\n",
      "2560 0xbb packets parsed\n",
      "connector_log=0x1\n",
      "2560 0xbb packets parsed\n"
     ]
    },
    {
     "name": "stderr",
     "output_type": "stream",
     "text": [
      " 61%|██████▏   | 196/320 [00:13<00:08, 14.36it/s]"
     ]
    },
    {
     "name": "stdout",
     "output_type": "stream",
     "text": [
      "connector_log=0x1\n",
      "2560 0xbb packets parsed\n",
      "connector_log=0x1\n",
      "2560 0xbb packets parsed\n",
      "connector_log=0x1\n",
      "2560 0xbb packets parsed\n"
     ]
    },
    {
     "name": "stderr",
     "output_type": "stream",
     "text": [
      " 62%|██████▏   | 198/320 [00:14<00:08, 14.42it/s]"
     ]
    },
    {
     "name": "stdout",
     "output_type": "stream",
     "text": [
      "connector_log=0x1\n",
      "2560 0xbb packets parsed\n",
      "connector_log=0x1\n",
      "2560 0xbb packets parsed\n",
      "connector_log=0x1\n",
      "2560 0xbb packets parsed\n"
     ]
    },
    {
     "name": "stderr",
     "output_type": "stream",
     "text": [
      " 62%|██████▎   | 200/320 [00:14<00:08, 14.28it/s]"
     ]
    },
    {
     "name": "stdout",
     "output_type": "stream",
     "text": [
      "connector_log=0x1\n",
      "2560 0xbb packets parsed\n",
      "connector_log=0x1\n",
      "2560 0xbb packets parsed\n",
      "connector_log=0x1\n",
      "2560 0xbb packets parsed\n"
     ]
    },
    {
     "name": "stderr",
     "output_type": "stream",
     "text": [
      " 64%|██████▍   | 204/320 [00:14<00:08, 14.15it/s]"
     ]
    },
    {
     "name": "stdout",
     "output_type": "stream",
     "text": [
      "connector_log=0x1\n",
      "2560 0xbb packets parsed\n",
      "connector_log=0x1\n",
      "2560 0xbb packets parsed\n",
      "connector_log=0x1\n",
      "2560 0xbb packets parsed\n"
     ]
    },
    {
     "name": "stderr",
     "output_type": "stream",
     "text": [
      " 64%|██████▍   | 206/320 [00:14<00:08, 13.91it/s]"
     ]
    },
    {
     "name": "stdout",
     "output_type": "stream",
     "text": [
      "connector_log=0x1\n",
      "2560 0xbb packets parsed\n",
      "connector_log=0x1\n",
      "2560 0xbb packets parsed\n",
      "connector_log=0x1\n",
      "2560 0xbb packets parsed\n"
     ]
    },
    {
     "name": "stderr",
     "output_type": "stream",
     "text": [
      " 66%|██████▌   | 210/320 [00:14<00:07, 14.21it/s]"
     ]
    },
    {
     "name": "stdout",
     "output_type": "stream",
     "text": [
      "connector_log=0x1\n",
      "2560 0xbb packets parsed\n",
      "connector_log=0x1\n",
      "2560 0xbb packets parsed\n",
      "connector_log=0x1\n",
      "2560 0xbb packets parsed\n"
     ]
    },
    {
     "name": "stderr",
     "output_type": "stream",
     "text": [
      " 67%|██████▋   | 214/320 [00:15<00:07, 14.41it/s]"
     ]
    },
    {
     "name": "stdout",
     "output_type": "stream",
     "text": [
      "connector_log=0x1\n",
      "2560 0xbb packets parsed\n",
      "connector_log=0x1\n",
      "2560 0xbb packets parsed\n",
      "connector_log=0x1\n",
      "2560 0xbb packets parsed\n"
     ]
    },
    {
     "name": "stderr",
     "output_type": "stream",
     "text": [
      " 68%|██████▊   | 216/320 [00:15<00:07, 14.44it/s]"
     ]
    },
    {
     "name": "stdout",
     "output_type": "stream",
     "text": [
      "connector_log=0x1\n",
      "2560 0xbb packets parsed\n",
      "connector_log=0x1\n",
      "2560 0xbb packets parsed\n",
      "connector_log=0x1\n",
      "2560 0xbb packets parsed\n"
     ]
    },
    {
     "name": "stderr",
     "output_type": "stream",
     "text": [
      " 69%|██████▉   | 220/320 [00:15<00:06, 14.45it/s]"
     ]
    },
    {
     "name": "stdout",
     "output_type": "stream",
     "text": [
      "connector_log=0x1\n",
      "2560 0xbb packets parsed\n",
      "connector_log=0x1\n",
      "2560 0xbb packets parsed\n",
      "connector_log=0x1\n",
      "2560 0xbb packets parsed\n",
      "connector_log=0x1\n",
      "2560 0xbb packets parsed\n"
     ]
    },
    {
     "name": "stderr",
     "output_type": "stream",
     "text": [
      " 70%|███████   | 224/320 [00:15<00:06, 14.55it/s]"
     ]
    },
    {
     "name": "stdout",
     "output_type": "stream",
     "text": [
      "connector_log=0x1\n",
      "2560 0xbb packets parsed\n",
      "connector_log=0x1\n",
      "2560 0xbb packets parsed\n",
      "connector_log=0x1\n",
      "2560 0xbb packets parsed\n"
     ]
    },
    {
     "name": "stderr",
     "output_type": "stream",
     "text": [
      " 71%|███████   | 226/320 [00:15<00:06, 14.56it/s]"
     ]
    },
    {
     "name": "stdout",
     "output_type": "stream",
     "text": [
      "connector_log=0x1\n",
      "2560 0xbb packets parsed\n",
      "connector_log=0x1\n",
      "2560 0xbb packets parsed\n",
      "connector_log=0x1\n",
      "2560 0xbb packets parsed\n",
      "connector_log=0x1\n",
      "2560 0xbb packets parsed\n"
     ]
    },
    {
     "name": "stderr",
     "output_type": "stream",
     "text": [
      " 72%|███████▏  | 230/320 [00:16<00:06, 14.55it/s]"
     ]
    },
    {
     "name": "stdout",
     "output_type": "stream",
     "text": [
      "connector_log=0x1\n",
      "2560 0xbb packets parsed\n",
      "connector_log=0x1\n",
      "2560 0xbb packets parsed\n",
      "connector_log=0x1\n",
      "2560 0xbb packets parsed\n",
      "connector_log=0x1\n",
      "2560 0xbb packets parsed\n"
     ]
    },
    {
     "name": "stderr",
     "output_type": "stream",
     "text": [
      " 73%|███████▎  | 234/320 [00:16<00:05, 14.63it/s]"
     ]
    },
    {
     "name": "stdout",
     "output_type": "stream",
     "text": [
      "connector_log=0x1\n",
      "2560 0xbb packets parsed\n",
      "connector_log=0x1\n",
      "2560 0xbb packets parsed\n",
      "connector_log=0x1\n",
      "2560 0xbb packets parsed\n"
     ]
    },
    {
     "name": "stderr",
     "output_type": "stream",
     "text": [
      " 74%|███████▍  | 238/320 [00:16<00:05, 14.56it/s]"
     ]
    },
    {
     "name": "stdout",
     "output_type": "stream",
     "text": [
      "connector_log=0x1\n",
      "2560 0xbb packets parsed\n",
      "connector_log=0x1\n",
      "2560 0xbb packets parsed\n",
      "connector_log=0x1\n",
      "2560 0xbb packets parsed\n",
      "connector_log=0x1\n",
      "2560 0xbb packets parsed\n"
     ]
    },
    {
     "name": "stderr",
     "output_type": "stream",
     "text": [
      " 76%|███████▌  | 242/320 [00:17<00:05, 14.59it/s]"
     ]
    },
    {
     "name": "stdout",
     "output_type": "stream",
     "text": [
      "connector_log=0x1\n",
      "2560 0xbb packets parsed\n",
      "connector_log=0x1\n",
      "2560 0xbb packets parsed\n",
      "connector_log=0x1\n",
      "2560 0xbb packets parsed\n"
     ]
    },
    {
     "name": "stderr",
     "output_type": "stream",
     "text": [
      " 76%|███████▋  | 244/320 [00:17<00:05, 14.59it/s]"
     ]
    },
    {
     "name": "stdout",
     "output_type": "stream",
     "text": [
      "connector_log=0x1\n",
      "2560 0xbb packets parsed\n",
      "connector_log=0x1\n",
      "2560 0xbb packets parsed\n",
      "connector_log=0x1\n",
      "2560 0xbb packets parsed\n"
     ]
    },
    {
     "name": "stderr",
     "output_type": "stream",
     "text": [
      " 77%|███████▋  | 246/320 [00:17<00:05, 14.55it/s]"
     ]
    },
    {
     "name": "stdout",
     "output_type": "stream",
     "text": [
      "connector_log=0x1\n",
      "2560 0xbb packets parsed\n",
      "connector_log=0x1\n",
      "2560 0xbb packets parsed\n",
      "connector_log=0x1\n",
      "2560 0xbb packets parsed\n"
     ]
    },
    {
     "name": "stderr",
     "output_type": "stream",
     "text": [
      " 78%|███████▊  | 250/320 [00:17<00:04, 14.16it/s]"
     ]
    },
    {
     "name": "stdout",
     "output_type": "stream",
     "text": [
      "connector_log=0x1\n",
      "2560 0xbb packets parsed\n",
      "connector_log=0x1\n",
      "2560 0xbb packets parsed\n",
      "connector_log=0x1\n",
      "2560 0xbb packets parsed\n"
     ]
    },
    {
     "name": "stderr",
     "output_type": "stream",
     "text": [
      " 79%|███████▉  | 254/320 [00:17<00:04, 14.37it/s]"
     ]
    },
    {
     "name": "stdout",
     "output_type": "stream",
     "text": [
      "connector_log=0x1\n",
      "2560 0xbb packets parsed\n",
      "connector_log=0x1\n",
      "2560 0xbb packets parsed\n",
      "connector_log=0x1\n",
      "2560 0xbb packets parsed\n"
     ]
    },
    {
     "name": "stderr",
     "output_type": "stream",
     "text": [
      " 80%|████████  | 256/320 [00:18<00:04, 14.44it/s]"
     ]
    },
    {
     "name": "stdout",
     "output_type": "stream",
     "text": [
      "connector_log=0x1\n",
      "2560 0xbb packets parsed\n",
      "connector_log=0x1\n",
      "2560 0xbb packets parsed\n",
      "connector_log=0x1\n",
      "2560 0xbb packets parsed\n",
      "connector_log=0x1\n",
      "2560 0xbb packets parsed\n"
     ]
    },
    {
     "name": "stderr",
     "output_type": "stream",
     "text": [
      " 81%|████████▏ | 260/320 [00:18<00:04, 14.49it/s]"
     ]
    },
    {
     "name": "stdout",
     "output_type": "stream",
     "text": [
      "connector_log=0x1\n",
      "2560 0xbb packets parsed\n",
      "connector_log=0x1\n",
      "2560 0xbb packets parsed\n",
      "connector_log=0x1\n",
      "2560 0xbb packets parsed\n",
      "connector_log=0x1\n",
      "2560 0xbb packets parsed\n"
     ]
    },
    {
     "name": "stderr",
     "output_type": "stream",
     "text": [
      " 82%|████████▎ | 264/320 [00:18<00:03, 14.57it/s]"
     ]
    },
    {
     "name": "stdout",
     "output_type": "stream",
     "text": [
      "connector_log=0x1\n",
      "2560 0xbb packets parsed\n",
      "connector_log=0x1\n",
      "2560 0xbb packets parsed\n",
      "connector_log=0x1\n",
      "2560 0xbb packets parsed\n"
     ]
    },
    {
     "name": "stderr",
     "output_type": "stream",
     "text": [
      " 84%|████████▍ | 268/320 [00:18<00:03, 14.55it/s]"
     ]
    },
    {
     "name": "stdout",
     "output_type": "stream",
     "text": [
      "connector_log=0x1\n",
      "2560 0xbb packets parsed\n",
      "connector_log=0x1\n",
      "2560 0xbb packets parsed\n",
      "connector_log=0x1\n",
      "2560 0xbb packets parsed\n",
      "connector_log=0x1\n",
      "2560 0xbb packets parsed\n"
     ]
    },
    {
     "name": "stderr",
     "output_type": "stream",
     "text": [
      " 84%|████████▍ | 270/320 [00:19<00:03, 14.50it/s]"
     ]
    },
    {
     "name": "stdout",
     "output_type": "stream",
     "text": [
      "connector_log=0x1\n",
      "2560 0xbb packets parsed\n",
      "connector_log=0x1\n",
      "2560 0xbb packets parsed\n",
      "connector_log=0x1\n",
      "2560 0xbb packets parsed\n"
     ]
    },
    {
     "name": "stderr",
     "output_type": "stream",
     "text": [
      " 86%|████████▌ | 274/320 [00:19<00:03, 13.65it/s]"
     ]
    },
    {
     "name": "stdout",
     "output_type": "stream",
     "text": [
      "connector_log=0x1\n",
      "2560 0xbb packets parsed\n",
      "connector_log=0x1\n",
      "2560 0xbb packets parsed\n",
      "connector_log=0x1\n",
      "2560 0xbb packets parsed\n"
     ]
    },
    {
     "name": "stderr",
     "output_type": "stream",
     "text": [
      " 87%|████████▋ | 278/320 [00:19<00:02, 14.06it/s]"
     ]
    },
    {
     "name": "stdout",
     "output_type": "stream",
     "text": [
      "connector_log=0x1\n",
      "2560 0xbb packets parsed\n",
      "connector_log=0x1\n",
      "2560 0xbb packets parsed\n",
      "connector_log=0x1\n",
      "2560 0xbb packets parsed\n"
     ]
    },
    {
     "name": "stderr",
     "output_type": "stream",
     "text": [
      " 88%|████████▊ | 280/320 [00:19<00:02, 14.18it/s]"
     ]
    },
    {
     "name": "stdout",
     "output_type": "stream",
     "text": [
      "connector_log=0x1\n",
      "2560 0xbb packets parsed\n",
      "connector_log=0x1\n",
      "2560 0xbb packets parsed\n",
      "connector_log=0x1\n",
      "2560 0xbb packets parsed\n"
     ]
    },
    {
     "name": "stderr",
     "output_type": "stream",
     "text": [
      " 89%|████████▉ | 284/320 [00:20<00:02, 14.45it/s]"
     ]
    },
    {
     "name": "stdout",
     "output_type": "stream",
     "text": [
      "connector_log=0x1\n",
      "2560 0xbb packets parsed\n",
      "connector_log=0x1\n",
      "2560 0xbb packets parsed\n",
      "connector_log=0x1\n",
      "2560 0xbb packets parsed\n",
      "connector_log=0x1\n",
      "2560 0xbb packets parsed\n"
     ]
    },
    {
     "name": "stderr",
     "output_type": "stream",
     "text": [
      " 89%|████████▉ | 286/320 [00:20<00:02, 11.77it/s]"
     ]
    },
    {
     "name": "stdout",
     "output_type": "stream",
     "text": [
      "connector_log=0x1\n",
      "2560 0xbb packets parsed\n",
      "connector_log=0x1\n",
      "2560 0xbb packets parsed\n"
     ]
    },
    {
     "name": "stderr",
     "output_type": "stream",
     "text": [
      " 91%|█████████ | 290/320 [00:20<00:02, 13.00it/s]"
     ]
    },
    {
     "name": "stdout",
     "output_type": "stream",
     "text": [
      "connector_log=0x1\n",
      "2560 0xbb packets parsed\n",
      "connector_log=0x1\n",
      "2560 0xbb packets parsed\n",
      "connector_log=0x1\n",
      "2560 0xbb packets parsed\n"
     ]
    },
    {
     "name": "stderr",
     "output_type": "stream",
     "text": [
      " 91%|█████████▏| 292/320 [00:20<00:02, 13.46it/s]"
     ]
    },
    {
     "name": "stdout",
     "output_type": "stream",
     "text": [
      "connector_log=0x1\n",
      "2560 0xbb packets parsed\n",
      "connector_log=0x1\n",
      "2560 0xbb packets parsed\n",
      "connector_log=0x1\n",
      "2560 0xbb packets parsed\n",
      "connector_log=0x1\n",
      "2560 0xbb packets parsed\n"
     ]
    },
    {
     "name": "stderr",
     "output_type": "stream",
     "text": [
      " 92%|█████████▎| 296/320 [00:20<00:01, 14.00it/s]"
     ]
    },
    {
     "name": "stdout",
     "output_type": "stream",
     "text": [
      "connector_log=0x1\n",
      "2560 0xbb packets parsed\n",
      "connector_log=0x1\n",
      "2560 0xbb packets parsed\n",
      "connector_log=0x1\n",
      "2560 0xbb packets parsed\n",
      "connector_log=0x1\n",
      "2560 0xbb packets parsed\n"
     ]
    },
    {
     "name": "stderr",
     "output_type": "stream",
     "text": [
      " 94%|█████████▍| 300/320 [00:21<00:01, 14.28it/s]"
     ]
    },
    {
     "name": "stdout",
     "output_type": "stream",
     "text": [
      "connector_log=0x1\n",
      "2560 0xbb packets parsed\n",
      "connector_log=0x1\n",
      "2560 0xbb packets parsed\n",
      "connector_log=0x1\n",
      "2560 0xbb packets parsed\n",
      "connector_log=0x1\n",
      "2560 0xbb packets parsed\n"
     ]
    },
    {
     "name": "stderr",
     "output_type": "stream",
     "text": [
      " 95%|█████████▌| 304/320 [00:21<00:01, 14.45it/s]"
     ]
    },
    {
     "name": "stdout",
     "output_type": "stream",
     "text": [
      "connector_log=0x1\n",
      "2560 0xbb packets parsed\n",
      "connector_log=0x1\n",
      "2560 0xbb packets parsed\n",
      "connector_log=0x1\n",
      "2560 0xbb packets parsed\n"
     ]
    },
    {
     "name": "stderr",
     "output_type": "stream",
     "text": [
      " 96%|█████████▌| 306/320 [00:21<00:00, 14.12it/s]"
     ]
    },
    {
     "name": "stdout",
     "output_type": "stream",
     "text": [
      "connector_log=0x1\n",
      "2560 0xbb packets parsed\n",
      "connector_log=0x1\n",
      "2560 0xbb packets parsed\n",
      "connector_log=0x1\n",
      "2560 0xbb packets parsed\n"
     ]
    },
    {
     "name": "stderr",
     "output_type": "stream",
     "text": [
      " 97%|█████████▋| 310/320 [00:21<00:00, 14.29it/s]"
     ]
    },
    {
     "name": "stdout",
     "output_type": "stream",
     "text": [
      "connector_log=0x1\n",
      "2560 0xbb packets parsed\n",
      "connector_log=0x1\n",
      "2560 0xbb packets parsed\n",
      "connector_log=0x1\n",
      "2560 0xbb packets parsed\n",
      "connector_log=0x1\n",
      "2560 0xbb packets parsed\n"
     ]
    },
    {
     "name": "stderr",
     "output_type": "stream",
     "text": [
      " 98%|█████████▊| 314/320 [00:22<00:00, 13.81it/s]"
     ]
    },
    {
     "name": "stdout",
     "output_type": "stream",
     "text": [
      "connector_log=0x1\n",
      "2560 0xbb packets parsed\n",
      "connector_log=0x1\n",
      "2560 0xbb packets parsed\n",
      "connector_log=0x1\n",
      "2560 0xbb packets parsed\n"
     ]
    },
    {
     "name": "stderr",
     "output_type": "stream",
     "text": [
      " 99%|█████████▉| 318/320 [00:22<00:00, 14.17it/s]"
     ]
    },
    {
     "name": "stdout",
     "output_type": "stream",
     "text": [
      "connector_log=0x1\n",
      "2560 0xbb packets parsed\n",
      "connector_log=0x1\n",
      "2560 0xbb packets parsed\n",
      "connector_log=0x1\n",
      "2560 0xbb packets parsed\n"
     ]
    },
    {
     "name": "stderr",
     "output_type": "stream",
     "text": [
      "100%|██████████| 320/320 [00:22<00:00, 14.14it/s]"
     ]
    },
    {
     "name": "stdout",
     "output_type": "stream",
     "text": [
      "connector_log=0x1\n",
      "2560 0xbb packets parsed\n",
      "connector_log=0x1\n",
      "2560 0xbb packets parsed\n"
     ]
    },
    {
     "name": "stderr",
     "output_type": "stream",
     "text": [
      "\n"
     ]
    }
   ],
   "source": [
    "import csiread\n",
    "import tqdm\n",
    "import pickle as pk\n",
    "import os\n",
    "\n",
    "for i in tqdm.trange(len(df_)):\n",
    "    _csi = csiread.Intel(df_.iloc[i]['csi'], nrxnum=3, ntxnum=1)\n",
    "    _csi.read()\n",
    "    csiarr = _csi.get_scaled_csi()\n",
    "\n",
    "    picsubsubdir = df_.iloc[i]['subsubdir']\n",
    "    tempdf = df[(df['subdir'] == picsubsubdir) & (df['repeat'] == df_.iloc[i]['repeat'])].sort_values('picname')\n",
    "    if not os.path.exists(csi_dstrootdir + 'csislice_' + picsubsubdir):\n",
    "        os.mkdir(csi_dstrootdir + 'csislice_' + picsubsubdir)\n",
    "    for j in range(200):\n",
    "        start = int(2560 / 200 * j)\n",
    "        pace = 12\n",
    "        pk.dump(csiarr[start: start + pace, ...], open(csi_dstrootdir + 'csislice_' + picsubsubdir + '/' + tempdf.iloc[j]['picname'][:-4] + '.pk', 'wb'))"
   ]
  },
  {
   "cell_type": "code",
   "execution_count": null,
   "metadata": {},
   "outputs": [],
   "source": []
  }
 ],
 "metadata": {
  "kernelspec": {
   "display_name": "mtmd",
   "language": "python",
   "name": "python3"
  },
  "language_info": {
   "codemirror_mode": {
    "name": "ipython",
    "version": 3
   },
   "file_extension": ".py",
   "mimetype": "text/x-python",
   "name": "python",
   "nbconvert_exporter": "python",
   "pygments_lexer": "ipython3",
   "version": "3.10.8"
  },
  "orig_nbformat": 4
 },
 "nbformat": 4,
 "nbformat_minor": 2
}
