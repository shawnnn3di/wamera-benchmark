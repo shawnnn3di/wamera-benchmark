{
 "cells": [
  {
   "cell_type": "code",
   "execution_count": 1,
   "metadata": {},
   "outputs": [],
   "source": [
    "import pickle as pk\n",
    "\n",
    "trainvalid = 'valid'\n",
    "df = pk.load(open('/home/lscsc/caizhijie/ref-rep/pytorch-openpose/dataparse/pathlist_%s.pk' % trainvalid, 'rb'))"
   ]
  },
  {
   "cell_type": "code",
   "execution_count": 2,
   "metadata": {},
   "outputs": [
    {
     "data": {
      "text/html": [
       "<div>\n",
       "<style scoped>\n",
       "    .dataframe tbody tr th:only-of-type {\n",
       "        vertical-align: middle;\n",
       "    }\n",
       "\n",
       "    .dataframe tbody tr th {\n",
       "        vertical-align: top;\n",
       "    }\n",
       "\n",
       "    .dataframe thead th {\n",
       "        text-align: right;\n",
       "    }\n",
       "</style>\n",
       "<table border=\"1\" class=\"dataframe\">\n",
       "  <thead>\n",
       "    <tr style=\"text-align: right;\">\n",
       "      <th></th>\n",
       "      <th>jpg</th>\n",
       "      <th>path</th>\n",
       "      <th>dir</th>\n",
       "      <th>mov</th>\n",
       "      <th>obj</th>\n",
       "      <th>ang</th>\n",
       "      <th>rep</th>\n",
       "    </tr>\n",
       "  </thead>\n",
       "  <tbody>\n",
       "    <tr>\n",
       "      <th>0</th>\n",
       "      <td>/home/lscsc/caizhijie/shar-data/archive/pic_sh...</td>\n",
       "      <td>t5_2023_01_18_20_01_16_540</td>\n",
       "      <td>pic_shac5_kicking_zdt_a2_lights</td>\n",
       "      <td>kicking</td>\n",
       "      <td>zdt</td>\n",
       "      <td>a2</td>\n",
       "      <td>5</td>\n",
       "    </tr>\n",
       "    <tr>\n",
       "      <th>1</th>\n",
       "      <td>/home/lscsc/caizhijie/shar-data/archive/pic_sh...</td>\n",
       "      <td>t5_2023_01_18_21_39_04_469</td>\n",
       "      <td>pic_shac5_kicking_zdt_a4_lights</td>\n",
       "      <td>kicking</td>\n",
       "      <td>zdt</td>\n",
       "      <td>a4</td>\n",
       "      <td>5</td>\n",
       "    </tr>\n",
       "    <tr>\n",
       "      <th>2</th>\n",
       "      <td>/home/lscsc/caizhijie/shar-data/archive/pic_sh...</td>\n",
       "      <td>t4_2023_01_18_21_19_14_703</td>\n",
       "      <td>pic_shac5_squating_czj_a4_lights</td>\n",
       "      <td>squating</td>\n",
       "      <td>czj</td>\n",
       "      <td>a4</td>\n",
       "      <td>4</td>\n",
       "    </tr>\n",
       "    <tr>\n",
       "      <th>3</th>\n",
       "      <td>/home/lscsc/caizhijie/shar-data/archive/pic_sh...</td>\n",
       "      <td>t1_2023_01_18_19_54_19_695</td>\n",
       "      <td>pic_shac5_bending_zdt_a2_lights</td>\n",
       "      <td>bending</td>\n",
       "      <td>zdt</td>\n",
       "      <td>a2</td>\n",
       "      <td>1</td>\n",
       "    </tr>\n",
       "    <tr>\n",
       "      <th>4</th>\n",
       "      <td>/home/lscsc/caizhijie/shar-data/archive/pic_sh...</td>\n",
       "      <td>t2_2023_01_18_19_33_12_416</td>\n",
       "      <td>pic_shac5_standing_zfj_a4_lights</td>\n",
       "      <td>standing</td>\n",
       "      <td>zfj</td>\n",
       "      <td>a4</td>\n",
       "      <td>2</td>\n",
       "    </tr>\n",
       "    <tr>\n",
       "      <th>...</th>\n",
       "      <td>...</td>\n",
       "      <td>...</td>\n",
       "      <td>...</td>\n",
       "      <td>...</td>\n",
       "      <td>...</td>\n",
       "      <td>...</td>\n",
       "      <td>...</td>\n",
       "    </tr>\n",
       "    <tr>\n",
       "      <th>12795</th>\n",
       "      <td>/home/lscsc/caizhijie/shar-data/archive/pic_sh...</td>\n",
       "      <td>t7_2023_01_18_21_24_58_754</td>\n",
       "      <td>pic_shac5_bending_zdt_a3_lights</td>\n",
       "      <td>bending</td>\n",
       "      <td>zdt</td>\n",
       "      <td>a3</td>\n",
       "      <td>7</td>\n",
       "    </tr>\n",
       "    <tr>\n",
       "      <th>12796</th>\n",
       "      <td>/home/lscsc/caizhijie/shar-data/archive/pic_sh...</td>\n",
       "      <td>t4_2023_01_18_21_28_19_733</td>\n",
       "      <td>pic_shac5_kicking_zdt_a3_lights</td>\n",
       "      <td>kicking</td>\n",
       "      <td>zdt</td>\n",
       "      <td>a3</td>\n",
       "      <td>4</td>\n",
       "    </tr>\n",
       "    <tr>\n",
       "      <th>12797</th>\n",
       "      <td>/home/lscsc/caizhijie/shar-data/archive/pic_sh...</td>\n",
       "      <td>t7_2023_01_18_21_37_33_477</td>\n",
       "      <td>pic_shac5_waving_zdt_a4_lights</td>\n",
       "      <td>waving</td>\n",
       "      <td>zdt</td>\n",
       "      <td>a4</td>\n",
       "      <td>7</td>\n",
       "    </tr>\n",
       "    <tr>\n",
       "      <th>12798</th>\n",
       "      <td>/home/lscsc/caizhijie/shar-data/archive/pic_sh...</td>\n",
       "      <td>t4_2023_01_18_20_05_56_830</td>\n",
       "      <td>pic_shac5_standing_zfq_a2_lights</td>\n",
       "      <td>standing</td>\n",
       "      <td>zfq</td>\n",
       "      <td>a2</td>\n",
       "      <td>4</td>\n",
       "    </tr>\n",
       "    <tr>\n",
       "      <th>12799</th>\n",
       "      <td>/home/lscsc/caizhijie/shar-data/archive/pic_sh...</td>\n",
       "      <td>t1_2023_01_18_19_54_19_695</td>\n",
       "      <td>pic_shac5_bending_zdt_a2_lights</td>\n",
       "      <td>bending</td>\n",
       "      <td>zdt</td>\n",
       "      <td>a2</td>\n",
       "      <td>1</td>\n",
       "    </tr>\n",
       "  </tbody>\n",
       "</table>\n",
       "<p>12800 rows × 7 columns</p>\n",
       "</div>"
      ],
      "text/plain": [
       "                                                     jpg  \\\n",
       "0      /home/lscsc/caizhijie/shar-data/archive/pic_sh...   \n",
       "1      /home/lscsc/caizhijie/shar-data/archive/pic_sh...   \n",
       "2      /home/lscsc/caizhijie/shar-data/archive/pic_sh...   \n",
       "3      /home/lscsc/caizhijie/shar-data/archive/pic_sh...   \n",
       "4      /home/lscsc/caizhijie/shar-data/archive/pic_sh...   \n",
       "...                                                  ...   \n",
       "12795  /home/lscsc/caizhijie/shar-data/archive/pic_sh...   \n",
       "12796  /home/lscsc/caizhijie/shar-data/archive/pic_sh...   \n",
       "12797  /home/lscsc/caizhijie/shar-data/archive/pic_sh...   \n",
       "12798  /home/lscsc/caizhijie/shar-data/archive/pic_sh...   \n",
       "12799  /home/lscsc/caizhijie/shar-data/archive/pic_sh...   \n",
       "\n",
       "                             path                               dir       mov  \\\n",
       "0      t5_2023_01_18_20_01_16_540   pic_shac5_kicking_zdt_a2_lights   kicking   \n",
       "1      t5_2023_01_18_21_39_04_469   pic_shac5_kicking_zdt_a4_lights   kicking   \n",
       "2      t4_2023_01_18_21_19_14_703  pic_shac5_squating_czj_a4_lights  squating   \n",
       "3      t1_2023_01_18_19_54_19_695   pic_shac5_bending_zdt_a2_lights   bending   \n",
       "4      t2_2023_01_18_19_33_12_416  pic_shac5_standing_zfj_a4_lights  standing   \n",
       "...                           ...                               ...       ...   \n",
       "12795  t7_2023_01_18_21_24_58_754   pic_shac5_bending_zdt_a3_lights   bending   \n",
       "12796  t4_2023_01_18_21_28_19_733   pic_shac5_kicking_zdt_a3_lights   kicking   \n",
       "12797  t7_2023_01_18_21_37_33_477    pic_shac5_waving_zdt_a4_lights    waving   \n",
       "12798  t4_2023_01_18_20_05_56_830  pic_shac5_standing_zfq_a2_lights  standing   \n",
       "12799  t1_2023_01_18_19_54_19_695   pic_shac5_bending_zdt_a2_lights   bending   \n",
       "\n",
       "       obj ang rep  \n",
       "0      zdt  a2   5  \n",
       "1      zdt  a4   5  \n",
       "2      czj  a4   4  \n",
       "3      zdt  a2   1  \n",
       "4      zfj  a4   2  \n",
       "...    ...  ..  ..  \n",
       "12795  zdt  a3   7  \n",
       "12796  zdt  a3   4  \n",
       "12797  zdt  a4   7  \n",
       "12798  zfq  a2   4  \n",
       "12799  zdt  a2   1  \n",
       "\n",
       "[12800 rows x 7 columns]"
      ]
     },
     "execution_count": 2,
     "metadata": {},
     "output_type": "execute_result"
    }
   ],
   "source": [
    "df"
   ]
  },
  {
   "cell_type": "code",
   "execution_count": 3,
   "metadata": {},
   "outputs": [
    {
     "name": "stderr",
     "output_type": "stream",
     "text": [
      "100%|██████████| 12800/12800 [00:04<00:00, 2583.20it/s]\n"
     ]
    }
   ],
   "source": [
    "import tqdm\n",
    "\n",
    "openpose = list()\n",
    "openposedir = '/home/lscsc/caizhijie/archive_0118/openpose/'\n",
    "for i in tqdm.trange(len(df)):\n",
    "    picid = df.iloc[i]['jpg']\n",
    "    openpose.append(pk.load(open(openposedir + '/'.join(picid.split('/')[-3:])[:-4] + '.pk', 'rb')))"
   ]
  },
  {
   "cell_type": "code",
   "execution_count": 4,
   "metadata": {},
   "outputs": [
    {
     "name": "stderr",
     "output_type": "stream",
     "text": [
      "100%|██████████| 12800/12800 [01:42<00:00, 124.39it/s]\n"
     ]
    }
   ],
   "source": [
    "import tqdm\n",
    "\n",
    "csislice = list()\n",
    "csislicedir = '/home/lscsc/caizhijie/archive_0118/csislice/'\n",
    "for i in tqdm.trange(len(df)):\n",
    "    picid = df.iloc[i]['jpg']\n",
    "    csislice.append(pk.load(open((csislicedir + '/'.join([picid.split('/')[-3], picid.split('/')[-1]])[:-4]).replace('pic', 'csislice') + '.pk', 'rb')))"
   ]
  },
  {
   "cell_type": "code",
   "execution_count": 5,
   "metadata": {},
   "outputs": [
    {
     "name": "stderr",
     "output_type": "stream",
     "text": [
      "  0%|          | 0/12800 [00:00<?, ?it/s]/home/lscsc/caizhijie/miniconda3/envs/mtmd/lib/python3.8/site-packages/tqdm/auto.py:22: TqdmWarning: IProgress not found. Please update jupyter and ipywidgets. See https://ipywidgets.readthedocs.io/en/stable/user_install.html\n",
      "  from .autonotebook import tqdm as notebook_tqdm\n",
      "100%|██████████| 12800/12800 [04:41<00:00, 45.47it/s]\n"
     ]
    }
   ],
   "source": [
    "import tqdm\n",
    "import cv2\n",
    "import numpy as np\n",
    "\n",
    "maskrcnn = list()\n",
    "maskrcnndir = '/home/lscsc/caizhijie/archive_0118/maskrcnn/'\n",
    "for i in tqdm.trange(len(df)):\n",
    "    picid = df.iloc[i]['jpg']\n",
    "    temp = pk.load(open(maskrcnndir + '/'.join(picid.split('/')[-3:])[:-4] + '.pk', 'rb')).get_fields()    \n",
    "    maskrcnn.append([temp['pred_boxes'][0], cv2.resize(np.array(temp['pred_masks'].numpy(), dtype=np.uint8)[0], (46, 46))])"
   ]
  },
  {
   "cell_type": "code",
   "execution_count": 6,
   "metadata": {},
   "outputs": [],
   "source": [
    "df['csi'] = csislice\n",
    "df['openpose'] = openpose\n",
    "df['maskrcnn'] = maskrcnn\n",
    "pk.dump(df, open('annotate_%s.pk' % trainvalid, 'wb'))"
   ]
  },
  {
   "cell_type": "code",
   "execution_count": 8,
   "metadata": {},
   "outputs": [
    {
     "name": "stderr",
     "output_type": "stream",
     "text": [
      "/home/lscsc/caizhijie/miniconda3/envs/mtmd/lib/python3.8/site-packages/tqdm/auto.py:22: TqdmWarning: IProgress not found. Please update jupyter and ipywidgets. See https://ipywidgets.readthedocs.io/en/stable/user_install.html\n",
      "  from .autonotebook import tqdm as notebook_tqdm\n"
     ]
    }
   ],
   "source": [
    "maskrcnndir = '/home/lscsc/caizhijie/archive_0118/maskrcnn/'\n",
    "\n",
    "picid = df.iloc[i]['jpg']\n",
    "temp = pk.load(open(maskrcnndir + '/'.join(picid.split('/')[-3:])[:-4] + '.pk', 'rb')).get_fields()"
   ]
  },
  {
   "cell_type": "code",
   "execution_count": 13,
   "metadata": {},
   "outputs": [],
   "source": [
    "import cv2\n",
    "import numpy as np\n",
    "\n",
    "resized = cv2.resize(np.array(temp['pred_masks'].numpy(), dtype=np.uint8)[0], (46, 46))"
   ]
  },
  {
   "cell_type": "code",
   "execution_count": 14,
   "metadata": {},
   "outputs": [
    {
     "data": {
      "text/plain": [
       "(48, 48)"
      ]
     },
     "execution_count": 14,
     "metadata": {},
     "output_type": "execute_result"
    }
   ],
   "source": [
    "resized.shape"
   ]
  },
  {
   "cell_type": "code",
   "execution_count": null,
   "metadata": {},
   "outputs": [],
   "source": []
  }
 ],
 "metadata": {
  "kernelspec": {
   "display_name": "mtmd",
   "language": "python",
   "name": "python3"
  },
  "language_info": {
   "codemirror_mode": {
    "name": "ipython",
    "version": 3
   },
   "file_extension": ".py",
   "mimetype": "text/x-python",
   "name": "python",
   "nbconvert_exporter": "python",
   "pygments_lexer": "ipython3",
   "version": "3.8.16"
  },
  "orig_nbformat": 4
 },
 "nbformat": 4,
 "nbformat_minor": 2
}
