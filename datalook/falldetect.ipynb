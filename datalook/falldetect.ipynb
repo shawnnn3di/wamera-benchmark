{
 "cells": [
  {
   "cell_type": "code",
   "execution_count": 1,
   "metadata": {},
   "outputs": [],
   "source": [
    "import pickle as pk\n",
    "\n",
    "df = pk.load(open('/home/lscsc/caizhijie/0420-wamera-benchmark/validdumps_newrun-1-valid.pk', 'rb'))"
   ]
  },
  {
   "cell_type": "code",
   "execution_count": 2,
   "metadata": {},
   "outputs": [],
   "source": [
    "namelist = list()\n",
    "jhmlist = list()\n",
    "y_jhmlist = list()\n",
    "\n",
    "for i in range(1, len(df)):\n",
    "    namelist.extend(df[i][1])\n",
    "    jhmlist.extend(df[i][2])\n",
    "    y_jhmlist.extend(df[i][3])"
   ]
  },
  {
   "cell_type": "code",
   "execution_count": 3,
   "metadata": {},
   "outputs": [],
   "source": [
    "import numpy as np\n",
    "\n",
    "namelist_ = list()\n",
    "jhmlist_ = list()\n",
    "y_jhmlist_ = list()\n",
    "\n",
    "n_frame = 5\n",
    "\n",
    "for i in range(0, len(namelist), n_frame):\n",
    "    namelist_.append(namelist[i])\n",
    "    jhmlist_.append(np.concatenate(jhmlist[i:i+n_frame]))\n",
    "    y_jhmlist_.append(np.concatenate(np.stack(y_jhmlist[i:i+n_frame])))"
   ]
  },
  {
   "cell_type": "code",
   "execution_count": 5,
   "metadata": {},
   "outputs": [],
   "source": [
    "import pandas as pd\n",
    "\n",
    "df = pd.DataFrame.from_dict({'name':namelist_, 'jhm':jhmlist_, 'y_jhm':y_jhmlist_})"
   ]
  },
  {
   "cell_type": "code",
   "execution_count": 18,
   "metadata": {},
   "outputs": [],
   "source": [
    "import torch\n",
    "\n",
    "from torch.utils.data import Dataset, DataLoader\n",
    "\n",
    "class dataset(Dataset):\n",
    "    def __init__(self, df):\n",
    "        self.df = df\n",
    "    \n",
    "    def __getitem__(self, index):\n",
    "        return self.df.iloc[index]\n",
    "    \n",
    "    def __len__(self):\n",
    "        return len(self.df)\n",
    "    \n",
    "def collate_fn(batch):\n",
    "    jhm = list()\n",
    "    y_jhm = list()\n",
    "    name = list()\n",
    "    for b in batch:\n",
    "        jhm.append(b['jhm'])\n",
    "        y_jhm.append(b['y_jhm'])\n",
    "        name.append(b['name'])\n",
    "        \n",
    "    return np.stack(jhm), np.stack(y_jhm), name\n",
    "\n",
    "df_ = df.sample(frac=1.0)\n",
    "dl = DataLoader(dataset(df_.iloc[:int(len(df_) * 0.8)]), batch_size=8, collate_fn=collate_fn, shuffle=True)\n",
    "# dl = DataLoader(dataset(df), batch_size=8, collate_fn=collate_fn, shuffle=True)\n",
    "\n",
    "dl_ = DataLoader(dataset(df_.iloc[int(len(df_) * 0.8):]), batch_size=8, collate_fn=collate_fn, shuffle=True)"
   ]
  },
  {
   "cell_type": "code",
   "execution_count": 50,
   "metadata": {},
   "outputs": [],
   "source": [
    "import torch.nn.functional as F\n",
    "import torch.nn as nn\n",
    "\n",
    "device = 'cuda:0'\n",
    "\n",
    "class FocalLoss(nn.Module):\n",
    "    def __init__(self, alpha=[0.33, 0.67], gamma=2, reduction='mean'):\n",
    "        \"\"\"\n",
    "        :param alpha: 权重系数列表，三分类中第0类权重0.2，第1类权重0.3，第2类权重0.5\n",
    "        :param gamma: 困难样本挖掘的gamma\n",
    "        :param reduction:\n",
    "        \"\"\"\n",
    "        super(FocalLoss, self).__init__()\n",
    "        self.alpha = torch.tensor(alpha).to(device)\n",
    "        self.gamma = gamma\n",
    "        self.reduction = reduction\n",
    "\n",
    "    def forward(self, pred, target):\n",
    "        alpha = self.alpha[target]  # 为当前batch内的样本，逐个分配类别权重，shape=(bs), 一维向量\n",
    "        log_softmax = torch.log_softmax(pred, dim=1) # 对模型裸输出做softmax再取log, shape=(bs, 3)\n",
    "        logpt = torch.gather(log_softmax, dim=1, index=target.view(-1, 1))  # 取出每个样本在类别标签位置的log_softmax值, shape=(bs, 1)\n",
    "        logpt = logpt.view(-1)  # 降维，shape=(bs)\n",
    "        ce_loss = -logpt  # 对log_softmax再取负，就是交叉熵了\n",
    "        pt = torch.exp(logpt)  #对log_softmax取exp，把log消了，就是每个样本在类别标签位置的softmax值了，shape=(bs)\n",
    "        focal_loss = alpha * (1 - pt) ** self.gamma * ce_loss  # 根据公式计算focal loss，得到每个样本的loss值，shape=(bs)\n",
    "        if self.reduction == \"mean\":\n",
    "            return torch.mean(focal_loss)\n",
    "        if self.reduction == \"sum\":\n",
    "            return torch.sum(focal_loss)\n",
    "        return focal_loss"
   ]
  },
  {
   "cell_type": "code",
   "execution_count": 53,
   "metadata": {},
   "outputs": [
    {
     "name": "stderr",
     "output_type": "stream",
     "text": [
      "train, batch: 59/60, loss: 0.7041, acc: 0.68: 100%|██████████| 60/60 [00:13<00:00,  4.58it/s]\n",
      "valid, batch: 14/60, loss: 0.6557, acc: 0.68: 100%|██████████| 15/15 [00:02<00:00,  5.45it/s]\n"
     ]
    },
    {
     "name": "stdout",
     "output_type": "stream",
     "text": [
      "updated best: epoch 0\n"
     ]
    },
    {
     "name": "stderr",
     "output_type": "stream",
     "text": [
      "train, batch: 59/60, loss: 0.6683, acc: 0.71: 100%|██████████| 60/60 [00:13<00:00,  4.53it/s]\n",
      "valid, batch: 14/60, loss: 0.6695, acc: 0.71: 100%|██████████| 15/15 [00:02<00:00,  5.61it/s]\n"
     ]
    },
    {
     "name": "stdout",
     "output_type": "stream",
     "text": [
      "updated best: epoch 1\n"
     ]
    },
    {
     "name": "stderr",
     "output_type": "stream",
     "text": [
      "train, batch: 59/60, loss: 0.6746, acc: 0.74: 100%|██████████| 60/60 [00:13<00:00,  4.59it/s]\n",
      "valid, batch: 14/60, loss: 0.6142, acc: 0.76: 100%|██████████| 15/15 [00:02<00:00,  5.47it/s]\n"
     ]
    },
    {
     "name": "stdout",
     "output_type": "stream",
     "text": [
      "updated best: epoch 2\n"
     ]
    },
    {
     "name": "stderr",
     "output_type": "stream",
     "text": [
      "train, batch: 59/60, loss: 0.6554, acc: 0.78: 100%|██████████| 60/60 [00:13<00:00,  4.53it/s]\n",
      "valid, batch: 14/60, loss: 0.6069, acc: 0.68: 100%|██████████| 15/15 [00:02<00:00,  5.54it/s]\n",
      "train, batch: 59/60, loss: 0.7360, acc: 0.78: 100%|██████████| 60/60 [00:13<00:00,  4.58it/s]\n",
      "valid, batch: 14/60, loss: 0.8428, acc: 0.73: 100%|██████████| 15/15 [00:02<00:00,  5.40it/s]\n",
      "train, batch: 59/60, loss: 0.6156, acc: 0.80: 100%|██████████| 60/60 [00:13<00:00,  4.54it/s]\n",
      "valid, batch: 14/60, loss: 0.6878, acc: 0.74: 100%|██████████| 15/15 [00:02<00:00,  5.63it/s]\n",
      "train, batch: 59/60, loss: 0.7482, acc: 0.80: 100%|██████████| 60/60 [00:13<00:00,  4.58it/s]\n",
      "valid, batch: 14/60, loss: 0.6647, acc: 0.69: 100%|██████████| 15/15 [00:02<00:00,  5.47it/s]\n",
      "train, batch: 59/60, loss: 0.3879, acc: 0.84: 100%|██████████| 60/60 [00:13<00:00,  4.55it/s]\n",
      "valid, batch: 14/60, loss: 0.4699, acc: 0.71: 100%|██████████| 15/15 [00:02<00:00,  5.58it/s]\n",
      "train, batch: 59/60, loss: 0.4504, acc: 0.83: 100%|██████████| 60/60 [00:12<00:00,  4.63it/s]\n",
      "valid, batch: 14/60, loss: 0.4891, acc: 0.71: 100%|██████████| 15/15 [00:02<00:00,  5.52it/s]\n",
      "train, batch: 59/60, loss: 0.3940, acc: 0.83: 100%|██████████| 60/60 [00:13<00:00,  4.53it/s]\n",
      "valid, batch: 14/60, loss: 0.4988, acc: 0.74: 100%|██████████| 15/15 [00:02<00:00,  5.52it/s]\n",
      "train, batch: 59/60, loss: 0.4357, acc: 0.87: 100%|██████████| 60/60 [00:12<00:00,  4.62it/s]\n",
      "valid, batch: 14/60, loss: 0.4469, acc: 0.77: 100%|██████████| 15/15 [00:02<00:00,  5.66it/s]\n"
     ]
    },
    {
     "name": "stdout",
     "output_type": "stream",
     "text": [
      "updated best: epoch 10\n"
     ]
    },
    {
     "name": "stderr",
     "output_type": "stream",
     "text": [
      "train, batch: 59/60, loss: 0.6614, acc: 0.85: 100%|██████████| 60/60 [00:13<00:00,  4.55it/s]\n",
      "valid, batch: 14/60, loss: 0.4982, acc: 0.77: 100%|██████████| 15/15 [00:02<00:00,  5.39it/s]\n",
      "train, batch: 59/60, loss: 0.3382, acc: 0.87: 100%|██████████| 60/60 [00:13<00:00,  4.56it/s]\n",
      "valid, batch: 14/60, loss: 0.6648, acc: 0.76: 100%|██████████| 15/15 [00:02<00:00,  5.64it/s]\n",
      "train, batch: 59/60, loss: 0.4611, acc: 0.92: 100%|██████████| 60/60 [00:13<00:00,  4.57it/s]\n",
      "valid, batch: 14/60, loss: 0.5628, acc: 0.78: 100%|██████████| 15/15 [00:02<00:00,  5.41it/s]\n"
     ]
    },
    {
     "name": "stdout",
     "output_type": "stream",
     "text": [
      "updated best: epoch 13\n"
     ]
    },
    {
     "name": "stderr",
     "output_type": "stream",
     "text": [
      "train, batch: 59/60, loss: 0.3693, acc: 0.91: 100%|██████████| 60/60 [00:13<00:00,  4.55it/s]\n",
      "valid, batch: 14/60, loss: 0.4770, acc: 0.74: 100%|██████████| 15/15 [00:02<00:00,  5.61it/s]\n",
      "train, batch: 59/60, loss: 0.3933, acc: 0.92: 100%|██████████| 60/60 [00:13<00:00,  4.60it/s]\n",
      "valid, batch: 14/60, loss: 0.4498, acc: 0.81: 100%|██████████| 15/15 [00:02<00:00,  5.41it/s]\n"
     ]
    },
    {
     "name": "stdout",
     "output_type": "stream",
     "text": [
      "updated best: epoch 15\n"
     ]
    },
    {
     "name": "stderr",
     "output_type": "stream",
     "text": [
      "train, batch: 59/60, loss: 0.4822, acc: 0.91: 100%|██████████| 60/60 [00:13<00:00,  4.52it/s]\n",
      "valid, batch: 14/60, loss: 0.4596, acc: 0.78: 100%|██████████| 15/15 [00:02<00:00,  5.45it/s]\n",
      "train, batch: 59/60, loss: 0.3210, acc: 0.93: 100%|██████████| 60/60 [00:13<00:00,  4.47it/s]\n",
      "valid, batch: 14/60, loss: 0.6038, acc: 0.79: 100%|██████████| 15/15 [00:02<00:00,  5.45it/s]\n",
      "train, batch: 59/60, loss: 0.4391, acc: 0.94: 100%|██████████| 60/60 [00:13<00:00,  4.50it/s]\n",
      "valid, batch: 14/60, loss: 0.5067, acc: 0.75: 100%|██████████| 15/15 [00:02<00:00,  5.51it/s]\n",
      "train, batch: 59/60, loss: 0.3158, acc: 0.90: 100%|██████████| 60/60 [00:13<00:00,  4.61it/s]\n",
      "valid, batch: 14/60, loss: 0.6856, acc: 0.76: 100%|██████████| 15/15 [00:02<00:00,  5.52it/s]\n",
      "train, batch: 59/60, loss: 0.3142, acc: 0.92: 100%|██████████| 60/60 [00:13<00:00,  4.52it/s]\n",
      "valid, batch: 14/60, loss: 0.5097, acc: 0.73: 100%|██████████| 15/15 [00:02<00:00,  5.54it/s]\n",
      "train, batch: 59/60, loss: 0.4412, acc: 0.92: 100%|██████████| 60/60 [00:12<00:00,  4.63it/s]\n",
      "valid, batch: 14/60, loss: 0.4389, acc: 0.82: 100%|██████████| 15/15 [00:02<00:00,  5.66it/s]\n"
     ]
    },
    {
     "name": "stdout",
     "output_type": "stream",
     "text": [
      "updated best: epoch 21\n"
     ]
    },
    {
     "name": "stderr",
     "output_type": "stream",
     "text": [
      "train, batch: 59/60, loss: 0.3807, acc: 0.95: 100%|██████████| 60/60 [00:13<00:00,  4.59it/s]\n",
      "valid, batch: 14/60, loss: 0.7556, acc: 0.77: 100%|██████████| 15/15 [00:02<00:00,  5.44it/s]\n",
      "train, batch: 59/60, loss: 0.3491, acc: 0.95: 100%|██████████| 60/60 [00:13<00:00,  4.54it/s]\n",
      "valid, batch: 14/60, loss: 0.6735, acc: 0.75: 100%|██████████| 15/15 [00:02<00:00,  5.60it/s]\n",
      "train, batch: 59/60, loss: 0.3141, acc: 0.94: 100%|██████████| 60/60 [00:12<00:00,  4.62it/s]\n",
      "valid, batch: 14/60, loss: 0.5746, acc: 0.82: 100%|██████████| 15/15 [00:02<00:00,  5.56it/s]\n",
      "train, batch: 59/60, loss: 0.3137, acc: 0.97: 100%|██████████| 60/60 [00:13<00:00,  4.53it/s]\n",
      "valid, batch: 14/60, loss: 0.5709, acc: 0.76: 100%|██████████| 15/15 [00:02<00:00,  5.46it/s]\n",
      "train, batch: 59/60, loss: 0.3157, acc: 0.98: 100%|██████████| 60/60 [00:13<00:00,  4.61it/s]\n",
      "valid, batch: 14/60, loss: 0.6802, acc: 0.81: 100%|██████████| 15/15 [00:02<00:00,  5.62it/s]\n",
      "train, batch: 59/60, loss: 0.3136, acc: 0.97: 100%|██████████| 60/60 [00:13<00:00,  4.53it/s]\n",
      "valid, batch: 14/60, loss: 0.4211, acc: 0.75: 100%|██████████| 15/15 [00:02<00:00,  5.44it/s]\n",
      "train, batch: 59/60, loss: 0.4381, acc: 0.96: 100%|██████████| 60/60 [00:13<00:00,  4.58it/s]\n",
      "valid, batch: 14/60, loss: 0.4752, acc: 0.80: 100%|██████████| 15/15 [00:02<00:00,  5.64it/s]\n",
      "train, batch: 59/60, loss: 0.3205, acc: 0.96: 100%|██████████| 60/60 [00:12<00:00,  4.63it/s]\n",
      "valid, batch: 14/60, loss: 0.3338, acc: 0.86: 100%|██████████| 15/15 [00:02<00:00,  5.47it/s]\n"
     ]
    },
    {
     "name": "stdout",
     "output_type": "stream",
     "text": [
      "updated best: epoch 29\n"
     ]
    },
    {
     "name": "stderr",
     "output_type": "stream",
     "text": [
      "train, batch: 59/60, loss: 0.3137, acc: 0.95: 100%|██████████| 60/60 [00:13<00:00,  4.53it/s]\n",
      "valid, batch: 14/60, loss: 0.4449, acc: 0.78: 100%|██████████| 15/15 [00:02<00:00,  5.55it/s]\n",
      "train, batch: 59/60, loss: 0.8126, acc: 0.95: 100%|██████████| 60/60 [00:13<00:00,  4.60it/s]\n",
      "valid, batch: 14/60, loss: 0.5458, acc: 0.77: 100%|██████████| 15/15 [00:02<00:00,  5.46it/s]\n",
      "train, batch: 59/60, loss: 0.4408, acc: 0.97: 100%|██████████| 60/60 [00:13<00:00,  4.53it/s]\n",
      "valid, batch: 14/60, loss: 0.5439, acc: 0.80: 100%|██████████| 15/15 [00:02<00:00,  5.52it/s]\n",
      "train, batch: 59/60, loss: 0.3135, acc: 0.95: 100%|██████████| 60/60 [00:13<00:00,  4.59it/s]\n",
      "valid, batch: 14/60, loss: 0.3159, acc: 0.80: 100%|██████████| 15/15 [00:02<00:00,  5.41it/s]\n",
      "train, batch: 59/60, loss: 0.3141, acc: 0.95: 100%|██████████| 60/60 [00:13<00:00,  4.51it/s]\n",
      "valid, batch: 14/60, loss: 0.3192, acc: 0.78: 100%|██████████| 15/15 [00:02<00:00,  5.54it/s]\n",
      "train, batch: 59/60, loss: 0.3141, acc: 0.98: 100%|██████████| 60/60 [00:13<00:00,  4.58it/s]\n",
      "valid, batch: 14/60, loss: 0.4814, acc: 0.83: 100%|██████████| 15/15 [00:02<00:00,  5.46it/s]\n",
      "train, batch: 59/60, loss: 0.3919, acc: 0.96: 100%|██████████| 60/60 [00:13<00:00,  4.53it/s]\n",
      "valid, batch: 14/60, loss: 0.6800, acc: 0.80: 100%|██████████| 15/15 [00:02<00:00,  5.57it/s]\n",
      "train, batch: 59/60, loss: 0.3151, acc: 0.98: 100%|██████████| 60/60 [00:13<00:00,  4.60it/s]\n",
      "valid, batch: 14/60, loss: 0.4385, acc: 0.80: 100%|██████████| 15/15 [00:02<00:00,  5.40it/s]\n",
      "train, batch: 59/60, loss: 0.3137, acc: 0.98: 100%|██████████| 60/60 [00:13<00:00,  4.54it/s]\n",
      "valid, batch: 14/60, loss: 0.6581, acc: 0.83: 100%|██████████| 15/15 [00:02<00:00,  5.59it/s]\n",
      "train, batch: 59/60, loss: 0.3149, acc: 0.98: 100%|██████████| 60/60 [00:13<00:00,  4.56it/s]\n",
      "valid, batch: 14/60, loss: 0.7800, acc: 0.82: 100%|██████████| 15/15 [00:02<00:00,  5.43it/s]\n",
      "train, batch: 59/60, loss: 0.3230, acc: 0.98: 100%|██████████| 60/60 [00:13<00:00,  4.54it/s]\n",
      "valid, batch: 14/60, loss: 0.7085, acc: 0.81: 100%|██████████| 15/15 [00:02<00:00,  5.64it/s]\n",
      "train, batch: 59/60, loss: 0.3136, acc: 0.98: 100%|██████████| 60/60 [00:13<00:00,  4.61it/s]\n",
      "valid, batch: 14/60, loss: 0.4859, acc: 0.81: 100%|██████████| 15/15 [00:02<00:00,  5.42it/s]\n",
      "train, batch: 59/60, loss: 0.3135, acc: 0.98: 100%|██████████| 60/60 [00:13<00:00,  4.56it/s]\n",
      "valid, batch: 14/60, loss: 0.5911, acc: 0.83: 100%|██████████| 15/15 [00:02<00:00,  5.66it/s]\n",
      "train, batch: 59/60, loss: 0.3141, acc: 0.98: 100%|██████████| 60/60 [00:13<00:00,  4.54it/s]\n",
      "valid, batch: 14/60, loss: 0.4402, acc: 0.83: 100%|██████████| 15/15 [00:02<00:00,  5.43it/s]\n",
      "train, batch: 59/60, loss: 0.4133, acc: 0.98: 100%|██████████| 60/60 [00:13<00:00,  4.61it/s]\n",
      "valid, batch: 14/60, loss: 0.5214, acc: 0.78: 100%|██████████| 15/15 [00:02<00:00,  5.61it/s]\n",
      "train, batch: 59/60, loss: 0.3135, acc: 0.98: 100%|██████████| 60/60 [00:13<00:00,  4.60it/s]\n",
      "valid, batch: 14/60, loss: 0.3139, acc: 0.81: 100%|██████████| 15/15 [00:02<00:00,  5.47it/s]\n",
      "train, batch: 59/60, loss: 0.3135, acc: 0.98: 100%|██████████| 60/60 [00:13<00:00,  4.55it/s]\n",
      "valid, batch: 14/60, loss: 0.4488, acc: 0.81: 100%|██████████| 15/15 [00:02<00:00,  5.58it/s]\n",
      "train, batch: 59/60, loss: 0.3134, acc: 0.98: 100%|██████████| 60/60 [00:12<00:00,  4.63it/s]\n",
      "valid, batch: 14/60, loss: 0.4390, acc: 0.83: 100%|██████████| 15/15 [00:02<00:00,  5.57it/s]\n",
      "train, batch: 59/60, loss: 0.3133, acc: 0.98: 100%|██████████| 60/60 [00:13<00:00,  4.55it/s]\n",
      "valid, batch: 14/60, loss: 0.5321, acc: 0.81: 100%|██████████| 15/15 [00:02<00:00,  5.51it/s]\n",
      "train, batch: 59/60, loss: 0.3134, acc: 0.98: 100%|██████████| 60/60 [00:13<00:00,  4.61it/s]\n",
      "valid, batch: 14/60, loss: 0.3168, acc: 0.80: 100%|██████████| 15/15 [00:02<00:00,  5.52it/s]\n"
     ]
    }
   ],
   "source": [
    "import tqdm\n",
    "\n",
    "\n",
    "class simpleNN(nn.Module):\n",
    "    def __init__(self, in_channels=380):\n",
    "        super().__init__()\n",
    "        \n",
    "        self.process = nn.Sequential(\n",
    "            nn.Conv2d(in_channels, in_channels * 2, 3, 2, 1, 1),\n",
    "            nn.BatchNorm2d(in_channels * 2),\n",
    "            nn.ReLU(),\n",
    "            nn.Conv2d(in_channels * 2, in_channels * 2 * 3, 3, 3, 1, 1),\n",
    "            nn.BatchNorm2d(in_channels * 2 * 3),\n",
    "            nn.ReLU(),\n",
    "            nn.Conv2d(in_channels * 2 * 3, in_channels * 2 * 3, 3, 3, 1, 1),\n",
    "            nn.BatchNorm2d(in_channels * 2 * 3),\n",
    "            nn.ReLU(),\n",
    "            nn.Conv2d(in_channels * 2 * 3, in_channels * 2 * 3, 3, 3, 1, 1),\n",
    "            nn.BatchNorm2d(in_channels * 2 * 3),\n",
    "            nn.ReLU(),\n",
    "            nn.Flatten(),\n",
    "            nn.Linear(760 * 6, 1024),\n",
    "            nn.ReLU(),\n",
    "            nn.Linear(1024, 256),\n",
    "            nn.ReLU(),\n",
    "            nn.Linear(256, 2),\n",
    "            nn.ReLU(),\n",
    "            nn.Softmax(),\n",
    "        )\n",
    "        \n",
    "    def forward(self, x):\n",
    "        return self.process(x)\n",
    "\n",
    "device = 'cuda:0'\n",
    "model = simpleNN().to(device)\n",
    "model.train()\n",
    "\n",
    "\n",
    "optimizer = torch.optim.Adam(\n",
    "    model.parameters(),\n",
    "    lr=1e-5,\n",
    "    weight_decay=1e-5,\n",
    ")\n",
    "\n",
    "bestacc = 0\n",
    "bestepoch = 0\n",
    "bestpd = list()\n",
    "bestgt = list()\n",
    "\n",
    "floss = FocalLoss()\n",
    "\n",
    "for j in range(50):\n",
    "    n_all = 0\n",
    "    n_hit = 0\n",
    "    pbar = tqdm.tqdm(enumerate(dl), total=len(dl))\n",
    "    model.train()\n",
    "    for i, batch in pbar:\n",
    "        jhm, y_jhm, name = batch\n",
    "        x = torch.tensor(jhm).to(device)\n",
    "        y = torch.tensor([_.__contains__('group0') for _ in name]).long().to(device)\n",
    "        pred = model(x)\n",
    "        \n",
    "        loss = F.cross_entropy(pred, y)\n",
    "        # loss = floss(pred, y)\n",
    "        \n",
    "        n_hit += (y == pred.argmax(1)).sum()\n",
    "        n_all += len(y)\n",
    "        \n",
    "        optimizer.zero_grad()\n",
    "        loss.backward()\n",
    "        optimizer.step()\n",
    "        \n",
    "        pbar.set_description('%s, batch: %d/%d, loss: %.4f, acc: %.2f' % ('train', i, len(pbar), loss, n_hit / n_all))\n",
    "    \n",
    "    n_all = 0\n",
    "    n_hit = 0\n",
    "    pd = list()\n",
    "    gt = list()\n",
    "    pbar_ = tqdm.tqdm(enumerate(dl_), total=len(dl_))\n",
    "    with torch.no_grad():\n",
    "        for i, batch in pbar_:\n",
    "            jhm, y_jhm, name = batch\n",
    "            x = torch.tensor(jhm).to(device)\n",
    "            y = torch.tensor([_.__contains__('group0') for _ in name]).long().to(device)\n",
    "            pred = model(x)\n",
    "            \n",
    "            loss = F.cross_entropy(pred, y)\n",
    "            # loss = floss(pred, y)\n",
    "            \n",
    "            n_hit += (y == pred.argmax(1)).sum()\n",
    "            n_all += len(y)\n",
    "            \n",
    "            pd.extend(list(pred.argmax(1).detach().cpu().numpy()))\n",
    "            gt.extend(list(y.detach().cpu().numpy()))\n",
    "\n",
    "            pbar_.set_description('%s, batch: %d/%d, loss: %.4f, acc: %.2f' % ('valid', i, len(pbar), loss, n_hit / n_all))\n",
    "    \n",
    "    previousacc = n_hit / n_all\n",
    "    if previousacc > bestacc:\n",
    "        bestacc = previousacc\n",
    "        bestpd = pd\n",
    "        bestgt = gt\n",
    "        bestepoch = j\n",
    "        print('updated best: epoch %d' % j)"
   ]
  },
  {
   "cell_type": "code",
   "execution_count": 54,
   "metadata": {},
   "outputs": [
    {
     "name": "stdout",
     "output_type": "stream",
     "text": [
      "24\n",
      "11\n",
      "13\n",
      "72\n"
     ]
    }
   ],
   "source": [
    "\n",
    "#true positive\n",
    "TP = np.sum(np.logical_and(np.equal(gt,1),np.equal(pd,1)))\n",
    "print(TP)\n",
    " \n",
    "#false positive\n",
    "FP = np.sum(np.logical_and(np.equal(gt,0),np.equal(pd,1)))\n",
    "print(FP)\n",
    " \n",
    "#true negative\n",
    "TN = np.sum(np.logical_and(np.equal(gt,1),np.equal(pd,0)))\n",
    "print(TN)\n",
    " \n",
    "#false negative\n",
    "FN = np.sum(np.logical_and(np.equal(gt,0),np.equal(pd,0)))\n",
    "print(FN)"
   ]
  },
  {
   "cell_type": "code",
   "execution_count": 87,
   "metadata": {},
   "outputs": [
    {
     "data": {
      "text/plain": [
       "[Text(0, 0.5, 'event: fall'), Text(0, 1.5, 'event: non-fall')]"
      ]
     },
     "execution_count": 87,
     "metadata": {},
     "output_type": "execute_result"
    },
    {
     "data": {
      "image/png": "[encoded data removed]",
      "text/plain": [
       "<Figure size 600x600 with 2 Axes>"
      ]
     },
     "metadata": {},
     "output_type": "display_data"
    }
   ],
   "source": [
    "import seaborn as sns\n",
    "import matplotlib.pyplot as plt\n",
    "\n",
    "fig, ax = plt.subplots(1, 1, figsize=(6, 6))\n",
    "\n",
    "sns.set(font_scale=1.3)\n",
    "g = sns.heatmap(data=np.array([[TP, FP], [TN, FN]]), cmap='jet', square=True, annot=True)\n",
    "ax.invert_yaxis()\n",
    "g.set_xticklabels(['predict:fall', 'predict:non-fall'])\n",
    "g.set_yticklabels(['event: fall', 'event: non-fall'])"
   ]
  },
  {
   "cell_type": "code",
   "execution_count": 55,
   "metadata": {},
   "outputs": [
    {
     "data": {
      "text/plain": [
       "(0.6857142857142857, 0.25, 0.30833333333333335, 0.6916666666666667)"
      ]
     },
     "execution_count": 55,
     "metadata": {},
     "output_type": "execute_result"
    }
   ],
   "source": [
    "precision = TP / (TP + FP)\n",
    "recall = TP / (TP + FN)\n",
    "accuracy = (TP + TN) / (TP + FP + TN + FN)\n",
    "error_rate =  (FN + FP) / (TP + FP + TN + FN)\n",
    "\n",
    "precision, recall, accuracy, error_rate"
   ]
  },
  {
   "cell_type": "code",
   "execution_count": 88,
   "metadata": {},
   "outputs": [
    {
     "data": {
      "text/plain": [
       "0.366412213740458"
      ]
     },
     "execution_count": 88,
     "metadata": {},
     "output_type": "execute_result"
    }
   ],
   "source": [
    "2 * precision * recall / (precision + recall)"
   ]
  },
  {
   "cell_type": "code",
   "execution_count": null,
   "metadata": {},
   "outputs": [],
   "source": []
  }
 ],
 "metadata": {
  "kernelspec": {
   "display_name": "mtmd",
   "language": "python",
   "name": "python3"
  },
  "language_info": {
   "codemirror_mode": {
    "name": "ipython",
    "version": 3
   },
   "file_extension": ".py",
   "mimetype": "text/x-python",
   "name": "python",
   "nbconvert_exporter": "python",
   "pygments_lexer": "ipython3",
   "version": "3.8.16"
  },
  "orig_nbformat": 4
 },
 "nbformat": 4,
 "nbformat_minor": 2
}
