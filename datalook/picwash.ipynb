{
 "cells": [
  {
   "cell_type": "code",
   "execution_count": 36,
   "metadata": {},
   "outputs": [],
   "source": [
    "import glob\n",
    "import pandas as pd\n",
    "\n",
    "picdirlist = glob.glob('../data/*/falldewideo*/*')\n",
    "df = pd.DataFrame.from_dict({'picdirlist':picdirlist}).sort_values('picdirlist', ignore_index=True)"
   ]
  },
  {
   "cell_type": "code",
   "execution_count": 37,
   "metadata": {},
   "outputs": [],
   "source": [
    "# original path is in column 'datlist_ori', dump path is in column 'datlist'\n",
    "df['picdirlist_ori'] = df['picdirlist']"
   ]
  },
  {
   "cell_type": "code",
   "execution_count": 39,
   "metadata": {},
   "outputs": [
    {
     "data": {
      "text/html": [
       "<div>\n",
       "<style scoped>\n",
       "    .dataframe tbody tr th:only-of-type {\n",
       "        vertical-align: middle;\n",
       "    }\n",
       "\n",
       "    .dataframe tbody tr th {\n",
       "        vertical-align: top;\n",
       "    }\n",
       "\n",
       "    .dataframe thead th {\n",
       "        text-align: right;\n",
       "    }\n",
       "</style>\n",
       "<table border=\"1\" class=\"dataframe\">\n",
       "  <thead>\n",
       "    <tr style=\"text-align: right;\">\n",
       "      <th></th>\n",
       "      <th>picdirlist</th>\n",
       "      <th>picdirlist_ori</th>\n",
       "      <th>db</th>\n",
       "      <th>move</th>\n",
       "      <th>obj</th>\n",
       "      <th>light</th>\n",
       "      <th>angle</th>\n",
       "      <th>view</th>\n",
       "      <th>time</th>\n",
       "      <th>key</th>\n",
       "    </tr>\n",
       "  </thead>\n",
       "  <tbody>\n",
       "    <tr>\n",
       "      <th>0</th>\n",
       "      <td>../data/20230609_110/falldewideo_fall_ctw_ligh...</td>\n",
       "      <td>../data/20230609_110/falldewideo_fall_ctw_ligh...</td>\n",
       "      <td>falldewideo</td>\n",
       "      <td>fall</td>\n",
       "      <td>ctw</td>\n",
       "      <td>lights</td>\n",
       "      <td>a1</td>\n",
       "      <td>rd</td>\n",
       "      <td>2023_06_09_23_01_19_808</td>\n",
       "      <td>fall_ctw_lights_a1_rd_falldewideo</td>\n",
       "    </tr>\n",
       "    <tr>\n",
       "      <th>1</th>\n",
       "      <td>../data/20230609_110/falldewideo_fall_ctw_ligh...</td>\n",
       "      <td>../data/20230609_110/falldewideo_fall_ctw_ligh...</td>\n",
       "      <td>falldewideo</td>\n",
       "      <td>fall</td>\n",
       "      <td>ctw</td>\n",
       "      <td>lights</td>\n",
       "      <td>a1</td>\n",
       "      <td>rd</td>\n",
       "      <td>2023_06_09_23_01_31_780</td>\n",
       "      <td>fall_ctw_lights_a1_rd_falldewideo</td>\n",
       "    </tr>\n",
       "    <tr>\n",
       "      <th>2</th>\n",
       "      <td>../data/20230609_110/falldewideo_fall_ctw_ligh...</td>\n",
       "      <td>../data/20230609_110/falldewideo_fall_ctw_ligh...</td>\n",
       "      <td>falldewideo</td>\n",
       "      <td>fall</td>\n",
       "      <td>ctw</td>\n",
       "      <td>lights</td>\n",
       "      <td>a1</td>\n",
       "      <td>rd</td>\n",
       "      <td>2023_06_09_23_01_43_806</td>\n",
       "      <td>fall_ctw_lights_a1_rd_falldewideo</td>\n",
       "    </tr>\n",
       "    <tr>\n",
       "      <th>3</th>\n",
       "      <td>../data/20230609_110/falldewideo_fall_ctw_ligh...</td>\n",
       "      <td>../data/20230609_110/falldewideo_fall_ctw_ligh...</td>\n",
       "      <td>falldewideo</td>\n",
       "      <td>fall</td>\n",
       "      <td>ctw</td>\n",
       "      <td>lights</td>\n",
       "      <td>a1</td>\n",
       "      <td>rd</td>\n",
       "      <td>2023_06_09_23_01_55_800</td>\n",
       "      <td>fall_ctw_lights_a1_rd_falldewideo</td>\n",
       "    </tr>\n",
       "    <tr>\n",
       "      <th>4</th>\n",
       "      <td>../data/20230609_110/falldewideo_fall_ctw_ligh...</td>\n",
       "      <td>../data/20230609_110/falldewideo_fall_ctw_ligh...</td>\n",
       "      <td>falldewideo</td>\n",
       "      <td>fall</td>\n",
       "      <td>ctw</td>\n",
       "      <td>lights</td>\n",
       "      <td>a1</td>\n",
       "      <td>rd</td>\n",
       "      <td>2023_06_09_23_02_07_779</td>\n",
       "      <td>fall_ctw_lights_a1_rd_falldewideo</td>\n",
       "    </tr>\n",
       "    <tr>\n",
       "      <th>...</th>\n",
       "      <td>...</td>\n",
       "      <td>...</td>\n",
       "      <td>...</td>\n",
       "      <td>...</td>\n",
       "      <td>...</td>\n",
       "      <td>...</td>\n",
       "      <td>...</td>\n",
       "      <td>...</td>\n",
       "      <td>...</td>\n",
       "      <td>...</td>\n",
       "    </tr>\n",
       "    <tr>\n",
       "      <th>3311</th>\n",
       "      <td>../data/20230612_35/falldewideo1_nfall2_ctw_li...</td>\n",
       "      <td>../data/20230612_35/falldewideo_nfall2_ctw_lig...</td>\n",
       "      <td>falldewideo1</td>\n",
       "      <td>nfall2</td>\n",
       "      <td>ctw</td>\n",
       "      <td>lights</td>\n",
       "      <td>a1</td>\n",
       "      <td>rc</td>\n",
       "      <td>2023_06_12_21_51_04_837</td>\n",
       "      <td>nfall2_ctw_lights_a1_rc_falldewideo1</td>\n",
       "    </tr>\n",
       "    <tr>\n",
       "      <th>3312</th>\n",
       "      <td>../data/20230612_35/falldewideo1_nfall2_ctw_li...</td>\n",
       "      <td>../data/20230612_35/falldewideo_nfall2_ctw_lig...</td>\n",
       "      <td>falldewideo1</td>\n",
       "      <td>nfall2</td>\n",
       "      <td>ctw</td>\n",
       "      <td>lights</td>\n",
       "      <td>a1</td>\n",
       "      <td>rc</td>\n",
       "      <td>2023_06_12_21_51_16_808</td>\n",
       "      <td>nfall2_ctw_lights_a1_rc_falldewideo1</td>\n",
       "    </tr>\n",
       "    <tr>\n",
       "      <th>3313</th>\n",
       "      <td>../data/20230612_35/falldewideo1_nfall2_ctw_li...</td>\n",
       "      <td>../data/20230612_35/falldewideo_nfall2_ctw_lig...</td>\n",
       "      <td>falldewideo1</td>\n",
       "      <td>nfall2</td>\n",
       "      <td>ctw</td>\n",
       "      <td>lights</td>\n",
       "      <td>a1</td>\n",
       "      <td>rc</td>\n",
       "      <td>2023_06_12_21_51_28_795</td>\n",
       "      <td>nfall2_ctw_lights_a1_rc_falldewideo1</td>\n",
       "    </tr>\n",
       "    <tr>\n",
       "      <th>3314</th>\n",
       "      <td>../data/20230612_35/falldewideo1_nfall2_ctw_li...</td>\n",
       "      <td>../data/20230612_35/falldewideo_nfall2_ctw_lig...</td>\n",
       "      <td>falldewideo1</td>\n",
       "      <td>nfall2</td>\n",
       "      <td>ctw</td>\n",
       "      <td>lights</td>\n",
       "      <td>a1</td>\n",
       "      <td>rc</td>\n",
       "      <td>2023_06_12_21_51_40_810</td>\n",
       "      <td>nfall2_ctw_lights_a1_rc_falldewideo1</td>\n",
       "    </tr>\n",
       "    <tr>\n",
       "      <th>3315</th>\n",
       "      <td>../data/20230612_35/falldewideo1_nfall2_ctw_li...</td>\n",
       "      <td>../data/20230612_35/falldewideo_nfall2_ctw_lig...</td>\n",
       "      <td>falldewideo1</td>\n",
       "      <td>nfall2</td>\n",
       "      <td>ctw</td>\n",
       "      <td>lights</td>\n",
       "      <td>a1</td>\n",
       "      <td>rc</td>\n",
       "      <td>2023_06_12_21_51_52_785</td>\n",
       "      <td>nfall2_ctw_lights_a1_rc_falldewideo1</td>\n",
       "    </tr>\n",
       "  </tbody>\n",
       "</table>\n",
       "<p>3316 rows × 10 columns</p>\n",
       "</div>"
      ],
      "text/plain": [
       "                                             picdirlist  \\\n",
       "0     ../data/20230609_110/falldewideo_fall_ctw_ligh...   \n",
       "1     ../data/20230609_110/falldewideo_fall_ctw_ligh...   \n",
       "2     ../data/20230609_110/falldewideo_fall_ctw_ligh...   \n",
       "3     ../data/20230609_110/falldewideo_fall_ctw_ligh...   \n",
       "4     ../data/20230609_110/falldewideo_fall_ctw_ligh...   \n",
       "...                                                 ...   \n",
       "3311  ../data/20230612_35/falldewideo1_nfall2_ctw_li...   \n",
       "3312  ../data/20230612_35/falldewideo1_nfall2_ctw_li...   \n",
       "3313  ../data/20230612_35/falldewideo1_nfall2_ctw_li...   \n",
       "3314  ../data/20230612_35/falldewideo1_nfall2_ctw_li...   \n",
       "3315  ../data/20230612_35/falldewideo1_nfall2_ctw_li...   \n",
       "\n",
       "                                         picdirlist_ori            db    move  \\\n",
       "0     ../data/20230609_110/falldewideo_fall_ctw_ligh...   falldewideo    fall   \n",
       "1     ../data/20230609_110/falldewideo_fall_ctw_ligh...   falldewideo    fall   \n",
       "2     ../data/20230609_110/falldewideo_fall_ctw_ligh...   falldewideo    fall   \n",
       "3     ../data/20230609_110/falldewideo_fall_ctw_ligh...   falldewideo    fall   \n",
       "4     ../data/20230609_110/falldewideo_fall_ctw_ligh...   falldewideo    fall   \n",
       "...                                                 ...           ...     ...   \n",
       "3311  ../data/20230612_35/falldewideo_nfall2_ctw_lig...  falldewideo1  nfall2   \n",
       "3312  ../data/20230612_35/falldewideo_nfall2_ctw_lig...  falldewideo1  nfall2   \n",
       "3313  ../data/20230612_35/falldewideo_nfall2_ctw_lig...  falldewideo1  nfall2   \n",
       "3314  ../data/20230612_35/falldewideo_nfall2_ctw_lig...  falldewideo1  nfall2   \n",
       "3315  ../data/20230612_35/falldewideo_nfall2_ctw_lig...  falldewideo1  nfall2   \n",
       "\n",
       "      obj   light angle view                     time  \\\n",
       "0     ctw  lights    a1   rd  2023_06_09_23_01_19_808   \n",
       "1     ctw  lights    a1   rd  2023_06_09_23_01_31_780   \n",
       "2     ctw  lights    a1   rd  2023_06_09_23_01_43_806   \n",
       "3     ctw  lights    a1   rd  2023_06_09_23_01_55_800   \n",
       "4     ctw  lights    a1   rd  2023_06_09_23_02_07_779   \n",
       "...   ...     ...   ...  ...                      ...   \n",
       "3311  ctw  lights    a1   rc  2023_06_12_21_51_04_837   \n",
       "3312  ctw  lights    a1   rc  2023_06_12_21_51_16_808   \n",
       "3313  ctw  lights    a1   rc  2023_06_12_21_51_28_795   \n",
       "3314  ctw  lights    a1   rc  2023_06_12_21_51_40_810   \n",
       "3315  ctw  lights    a1   rc  2023_06_12_21_51_52_785   \n",
       "\n",
       "                                       key  \n",
       "0        fall_ctw_lights_a1_rd_falldewideo  \n",
       "1        fall_ctw_lights_a1_rd_falldewideo  \n",
       "2        fall_ctw_lights_a1_rd_falldewideo  \n",
       "3        fall_ctw_lights_a1_rd_falldewideo  \n",
       "4        fall_ctw_lights_a1_rd_falldewideo  \n",
       "...                                    ...  \n",
       "3311  nfall2_ctw_lights_a1_rc_falldewideo1  \n",
       "3312  nfall2_ctw_lights_a1_rc_falldewideo1  \n",
       "3313  nfall2_ctw_lights_a1_rc_falldewideo1  \n",
       "3314  nfall2_ctw_lights_a1_rc_falldewideo1  \n",
       "3315  nfall2_ctw_lights_a1_rc_falldewideo1  \n",
       "\n",
       "[3316 rows x 10 columns]"
      ]
     },
     "execution_count": 39,
     "metadata": {},
     "output_type": "execute_result"
    }
   ],
   "source": [
    "# mending\n",
    "\n",
    "# mistakenly record falldewideo1_mfy_a1_fall as falldewideo_test_a1_test\n",
    "df.loc[df['picdirlist'].apply(lambda x: (x.__contains__('falldewideo_fall_test_lights_1000_')) & (x.__contains__('20230612'))), 'picdirlist'] = df.loc[df['picdirlist'].apply(lambda x: (x.__contains__('falldewideo_fall_test_lights_1000_')) & (x.__contains__('20230612'))), 'picdirlist'].apply(lambda x: x.replace('falldewideo_fall_test_lights_1000_', 'falldewideo1_fall_mfy_lights_1000_'))\n",
    "\n",
    "# mistakenly record falldewideo1 as falldewideo\n",
    "df.loc[df['picdirlist'].apply(lambda x: (x.__contains__('20230612'))), 'picdirlist'] = df.loc[df['picdirlist'].apply(lambda x: (x.__contains__('20230612'))), 'picdirlist'].apply(lambda x: x.replace('falldewideo_', 'falldewideo1_'))\n",
    "\n",
    "df.loc[df['picdirlist'].apply(lambda x: x.__contains__('20230612')), 'picdirlist'] = df.loc[df['picdirlist'].apply(lambda x: x.__contains__('20230612')), 'picdirlist'].apply(lambda x: x.replace('falldewideo_', 'falldewideo1_'))\n",
    "df['picdirlist'] = df['picdirlist'].apply(lambda x: x.replace('falldewideo_1', 'falldewideo1'))\n",
    "\n",
    "df['db'] = df['picdirlist'].apply(lambda x: x.split('/')[3].split('_')[0])\n",
    "df['move'] = df['picdirlist'].apply(lambda x: x.split('/')[3].split('_')[1])\n",
    "df['obj'] = df['picdirlist'].apply(lambda x: x.split('/')[3].split('_')[2])\n",
    "df['light'] = df['picdirlist'].apply(lambda x: x.split('/')[3].split('_')[3])\n",
    "df['angle'] = df['picdirlist'].apply(lambda x: x.split('/')[3].split('_')[5])\n",
    "df['view'] = df['picdirlist'].apply(lambda x: x.split('/')[3].split('_')[-1])\n",
    "\n",
    "df['time'] = df['picdirlist'].apply(lambda x: x.split('/')[-1][3:])\n",
    "\n",
    "df['key'] = df['move'] + '_' + df['obj'] + '_' + df['light'] + '_' + df['angle'] + '_' + df['view'] + '_' + df['db']\n",
    "\n",
    "df"
   ]
  },
  {
   "cell_type": "code",
   "execution_count": 40,
   "metadata": {},
   "outputs": [],
   "source": [
    "import copy\n",
    "df_copy = copy.deepcopy(df)"
   ]
  },
  {
   "cell_type": "code",
   "execution_count": 41,
   "metadata": {},
   "outputs": [
    {
     "data": {
      "text/plain": [
       "fall_empty_lights_a1_rd_falldewideo    15\n",
       "fall_empty_lights_a1_35_falldewideo    15\n",
       "fall_empty_lights_a1_rb_falldewideo    15\n",
       "fall_empty_lights_a1_rc_falldewideo    15\n",
       "nfall1_mfy_lights_a3_rd_falldewideo    10\n",
       "                                       ..\n",
       "fall_lxh_lights_a2_rb_falldewideo       5\n",
       "fall_test_lights_a1_rc_falldewideo      2\n",
       "fall_test_lights_a1_rd_falldewideo      2\n",
       "fall_test_lights_a1_35_falldewideo      1\n",
       "fall_test_lights_a1_rb_falldewideo      1\n",
       "Name: key, Length: 588, dtype: int64"
      ]
     },
     "execution_count": 41,
     "metadata": {},
     "output_type": "execute_result"
    }
   ],
   "source": [
    "df['key'].value_counts()"
   ]
  },
  {
   "cell_type": "code",
   "execution_count": 42,
   "metadata": {},
   "outputs": [
    {
     "name": "stderr",
     "output_type": "stream",
     "text": [
      "100%|██████████| 588/588 [00:00<00:00, 795.96it/s] \n"
     ]
    }
   ],
   "source": [
    "import os\n",
    "import tqdm\n",
    "\n",
    "keylist = list(df['key'].value_counts().keys())\n",
    "for i in tqdm.trange(len(keylist)):\n",
    "    focus = df.loc[df['key'] == keylist[i]]\n",
    "    if len(focus) > 5:\n",
    "        # print(i)\n",
    "        deletefocus = focus.sort_values('time')[:-5]['picdirlist']\n",
    "        # print(len(deletefocus))\n",
    "        for j in range(len(deletefocus)):\n",
    "            # os.system('rm %s' % deletefocus.iloc[j])\n",
    "            # print('%s' % deletefocus.iloc[int(j)])\n",
    "            df.drop(index=deletefocus.index[j], inplace=True)\n",
    "    # else:\n",
    "    #     print(keylist[i])"
   ]
  },
  {
   "cell_type": "code",
   "execution_count": 43,
   "metadata": {},
   "outputs": [],
   "source": [
    "df['key'].value_counts().to_csv('test.csv', sep='\\t')"
   ]
  },
  {
   "cell_type": "code",
   "execution_count": null,
   "metadata": {},
   "outputs": [],
   "source": [
    "df['angle'].value_counts()"
   ]
  },
  {
   "cell_type": "code",
   "execution_count": 44,
   "metadata": {},
   "outputs": [
    {
     "data": {
      "text/plain": [
       "ctw      480\n",
       "czj      480\n",
       "mfy      480\n",
       "chl      480\n",
       "chz      480\n",
       "lxh      480\n",
       "test      26\n",
       "empty     20\n",
       "Name: obj, dtype: int64"
      ]
     },
     "execution_count": 44,
     "metadata": {},
     "output_type": "execute_result"
    }
   ],
   "source": [
    "df['obj'].value_counts()"
   ]
  },
  {
   "cell_type": "code",
   "execution_count": 45,
   "metadata": {},
   "outputs": [],
   "source": [
    "objlist = list(df['obj'].value_counts().index.sort_values())\n",
    "movelist = list(df['move'].value_counts().index.sort_values())\n",
    "anglelist = list(df['angle'].value_counts().index.sort_values())\n",
    "sitelist = list(df['view'].value_counts().index.sort_values())\n",
    "dblist = list(df['db'].value_counts().index.sort_values())"
   ]
  },
  {
   "cell_type": "code",
   "execution_count": 48,
   "metadata": {},
   "outputs": [
    {
     "name": "stderr",
     "output_type": "stream",
     "text": [
      "100%|██████████| 8/8 [34:34<00:00, 259.37s/it]\n"
     ]
    }
   ],
   "source": [
    "for obj in tqdm.trange(len(objlist), total=len(objlist)):\n",
    "    for move in range(len(movelist)):\n",
    "        for angle in range(len(anglelist)):\n",
    "            for site in range(len(sitelist)):\n",
    "                for db in range(len(dblist)):\n",
    "                    focus = df[(df['obj'] == objlist[obj]) & (df['move'] == movelist[move]) & (df['angle'] == anglelist[angle]) & (df['view'] == sitelist[site]) & (df['db'] == dblist[db])].sort_values('time')\n",
    "                    for i in range(len(focus)):\n",
    "                        os.system('cp -r %s %s' % (focus.iloc[i]['picdirlist_ori'], '../data/pic/%s' % '_'.join(['env' + str(db), 'subj' + str(obj), 'group' + str(move), 'angle' + str(angle), 'cam' + str(site), 't' + str(i)])))"
   ]
  },
  {
   "cell_type": "code",
   "execution_count": null,
   "metadata": {},
   "outputs": [],
   "source": []
  }
 ],
 "metadata": {
  "kernelspec": {
   "display_name": "mtmd",
   "language": "python",
   "name": "python3"
  },
  "language_info": {
   "codemirror_mode": {
    "name": "ipython",
    "version": 3
   },
   "file_extension": ".py",
   "mimetype": "text/x-python",
   "name": "python",
   "nbconvert_exporter": "python",
   "pygments_lexer": "ipython3",
   "version": "3.8.16"
  },
  "orig_nbformat": 4
 },
 "nbformat": 4,
 "nbformat_minor": 2
}
